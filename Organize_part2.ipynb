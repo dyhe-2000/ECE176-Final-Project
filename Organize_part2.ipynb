{
 "cells": [
  {
   "cell_type": "code",
   "execution_count": 1,
   "metadata": {},
   "outputs": [],
   "source": [
    "import cv2 \n",
    "import numpy as np\n",
    "import torch\n",
    "import matplotlib.pyplot as plt"
   ]
  },
  {
   "cell_type": "code",
   "execution_count": 2,
   "metadata": {},
   "outputs": [],
   "source": [
    "train_x = torch.load('train_x.pt', map_location=torch.device('cpu'))\n",
    "train_y = torch.load('train_y.pt', map_location=torch.device('cpu'))\n",
    "test_x = torch.load('test_x.pt', map_location=torch.device('cpu'))\n",
    "test_y = torch.load('test_y.pt', map_location=torch.device('cpu'))"
   ]
  },
  {
   "cell_type": "code",
   "execution_count": 3,
   "metadata": {},
   "outputs": [
    {
     "name": "stdout",
     "output_type": "stream",
     "text": [
      "train_x shape:  torch.Size([4170, 128, 128, 3])\n",
      "train_y shape:  torch.Size([4170])\n",
      "test_x shape:  torch.Size([1994, 128, 128, 3])\n",
      "test_y shape:  torch.Size([1994])\n"
     ]
    }
   ],
   "source": [
    "print(\"train_x shape: \", train_x.size())\n",
    "print(\"train_y shape: \", train_y.size())\n",
    "print(\"test_x shape: \", test_x.size())\n",
    "print(\"test_y shape: \", test_y.size())"
   ]
  },
  {
   "cell_type": "code",
   "execution_count": 4,
   "metadata": {},
   "outputs": [],
   "source": [
    "train_x = train_x.numpy().astype('float64')\n",
    "train_y = train_y.numpy().astype('float64')\n",
    "test_x = test_x.numpy().astype('float64')\n",
    "test_y = test_y.numpy().astype('float64')"
   ]
  },
  {
   "cell_type": "code",
   "execution_count": 5,
   "metadata": {},
   "outputs": [
    {
     "name": "stdout",
     "output_type": "stream",
     "text": [
      "train_x shape:  (4170, 128, 128, 3)\n",
      "train_y shape:  (4170,)\n",
      "test_x shape:  (1994, 128, 128, 3)\n",
      "test_y shape:  (1994,)\n"
     ]
    }
   ],
   "source": [
    "print(\"train_x shape: \", train_x.shape)\n",
    "print(\"train_y shape: \", train_y.shape)\n",
    "print(\"test_x shape: \", test_x.shape)\n",
    "print(\"test_y shape: \", test_y.shape)"
   ]
  },
  {
   "cell_type": "code",
   "execution_count": 6,
   "metadata": {},
   "outputs": [],
   "source": [
    "idx = np.random.permutation(train_x.shape[0])\n",
    "train_x_shuffle, train_y_shuffle = train_x[idx], train_y[idx]\n",
    "idx = np.random.permutation(test_x.shape[0])\n",
    "test_x_shuffle, test_y_shuffle = test_x[idx], test_y[idx]"
   ]
  },
  {
   "cell_type": "code",
   "execution_count": 8,
   "metadata": {},
   "outputs": [],
   "source": [
    "train_x_shuffle = np.swapaxes(train_x_shuffle,3,1)\n",
    "test_x_shuffle = np.swapaxes(test_x_shuffle,3,1)\n",
    "train_x_shuffle = np.swapaxes(train_x_shuffle,2,3)\n",
    "test_x_shuffle = np.swapaxes(test_x_shuffle,2,3)"
   ]
  },
  {
   "cell_type": "code",
   "execution_count": 9,
   "metadata": {},
   "outputs": [],
   "source": [
    "val_size = int(train_x.shape[0] * 0.2)\n",
    "val_x = train_x_shuffle[0:val_size]\n",
    "val_y = train_y_shuffle[0:val_size]\n",
    "train_x_shuffle = train_x_shuffle[val_size:]\n",
    "train_y_shuffle = train_y_shuffle[val_size:]"
   ]
  },
  {
   "cell_type": "code",
   "execution_count": 10,
   "metadata": {},
   "outputs": [],
   "source": [
    "train_x = torch.from_numpy(train_x_shuffle)\n",
    "train_y = torch.from_numpy(train_y_shuffle)\n",
    "val_x = torch.from_numpy(val_x)\n",
    "val_y = torch.from_numpy(val_y)\n",
    "test_x = torch.from_numpy(test_x_shuffle)\n",
    "test_y = torch.from_numpy(test_y_shuffle)"
   ]
  },
  {
   "cell_type": "code",
   "execution_count": 11,
   "metadata": {},
   "outputs": [
    {
     "name": "stdout",
     "output_type": "stream",
     "text": [
      "train_x shape:  torch.Size([3336, 3, 128, 128])\n",
      "train_y shape:  torch.Size([3336])\n",
      "val_x shape:  torch.Size([834, 3, 128, 128])\n",
      "val_y shape:  torch.Size([834])\n",
      "test_x shape:  torch.Size([1994, 3, 128, 128])\n",
      "test_y shape:  torch.Size([1994])\n"
     ]
    }
   ],
   "source": [
    "print(\"train_x shape: \", train_x.size())\n",
    "print(\"train_y shape: \", train_y.size())\n",
    "print(\"val_x shape: \", val_x.size())\n",
    "print(\"val_y shape: \", val_y.size())\n",
    "print(\"test_x shape: \", test_x.size())\n",
    "print(\"test_y shape: \", test_y.size())"
   ]
  },
  {
   "cell_type": "code",
   "execution_count": 12,
   "metadata": {},
   "outputs": [],
   "source": [
    "torch.save(train_x, 'train_x.pt')\n",
    "torch.save(train_y, 'train_y.pt')\n",
    "torch.save(val_x, 'val_x.pt')\n",
    "torch.save(val_y, 'val_y.pt')\n",
    "torch.save(test_x, 'test_x.pt')\n",
    "torch.save(test_y, 'test_y.pt')"
   ]
  },
  {
   "cell_type": "code",
   "execution_count": null,
   "metadata": {},
   "outputs": [],
   "source": []
  }
 ],
 "metadata": {
  "kernelspec": {
   "display_name": "Python 3",
   "language": "python",
   "name": "python3"
  },
  "language_info": {
   "codemirror_mode": {
    "name": "ipython",
    "version": 3
   },
   "file_extension": ".py",
   "mimetype": "text/x-python",
   "name": "python",
   "nbconvert_exporter": "python",
   "pygments_lexer": "ipython3",
   "version": "3.8.6"
  }
 },
 "nbformat": 4,
 "nbformat_minor": 4
}
