{
 "cells": [
  {
   "cell_type": "code",
   "execution_count": 1,
   "metadata": {},
   "outputs": [],
   "source": [
    "import cv2 \n",
    "import numpy as np\n",
    "import torch\n",
    "import matplotlib.pyplot as plt"
   ]
  },
  {
   "cell_type": "code",
   "execution_count": 2,
   "metadata": {},
   "outputs": [],
   "source": [
    "train_x = torch.load('train_x.pt', map_location=torch.device('cpu'))\n",
    "train_y = torch.load('train_y.pt', map_location=torch.device('cpu'))\n",
    "test_x = torch.load('test_x.pt', map_location=torch.device('cpu'))\n",
    "test_y = torch.load('test_y.pt', map_location=torch.device('cpu'))"
   ]
  },
  {
   "cell_type": "code",
   "execution_count": 3,
   "metadata": {},
   "outputs": [
    {
     "name": "stdout",
     "output_type": "stream",
     "text": [
      "train_x shape:  torch.Size([4170, 128, 128, 3])\n",
      "train_y shape:  torch.Size([4170])\n",
      "test_x shape:  torch.Size([1994, 128, 128, 3])\n",
      "test_y shape:  torch.Size([1994])\n"
     ]
    }
   ],
   "source": [
    "print(\"train_x shape: \", train_x.size())\n",
    "print(\"train_y shape: \", train_y.size())\n",
    "print(\"test_x shape: \", test_x.size())\n",
    "print(\"test_y shape: \", test_y.size())"
   ]
  },
  {
   "cell_type": "code",
   "execution_count": 4,
   "metadata": {},
   "outputs": [],
   "source": [
    "train_x = train_x.numpy().astype('float64')\n",
    "train_y = train_y.numpy().astype('float64')\n",
    "test_x = test_x.numpy().astype('float64')\n",
    "test_y = test_y.numpy().astype('float64')"
   ]
  },
  {
   "cell_type": "code",
   "execution_count": 5,
   "metadata": {},
   "outputs": [
    {
     "name": "stdout",
     "output_type": "stream",
     "text": [
      "train_x shape:  (4170, 128, 128, 3)\n",
      "train_y shape:  (4170,)\n",
      "test_x shape:  (1994, 128, 128, 3)\n",
      "test_y shape:  (1994,)\n"
     ]
    }
   ],
   "source": [
    "print(\"train_x shape: \", train_x.shape)\n",
    "print(\"train_y shape: \", train_y.shape)\n",
    "print(\"test_x shape: \", test_x.shape)\n",
    "print(\"test_y shape: \", test_y.shape)"
   ]
  },
  {
   "cell_type": "code",
   "execution_count": 6,
   "metadata": {},
   "outputs": [],
   "source": [
    "idx = np.random.permutation(train_x.shape[0])\n",
    "train_x_shuffle, train_y_shuffle = train_x[idx], train_y[idx]\n",
    "idx = np.random.permutation(test_x.shape[0])\n",
    "test_x_shuffle, test_y_shuffle = test_x[idx], test_y[idx]"
   ]
  },
  {
   "cell_type": "code",
   "execution_count": 7,
   "metadata": {},
   "outputs": [
    {
     "data": {
      "text/plain": [
       "array([[[[254., 254., 254., ..., 252., 252., 252.],\n",
       "         [255., 255., 255., ..., 253., 253., 253.],\n",
       "         [251., 251., 251., ..., 249., 249., 249.]],\n",
       "\n",
       "        [[254., 254., 254., ..., 252., 252., 252.],\n",
       "         [255., 255., 255., ..., 253., 253., 253.],\n",
       "         [250., 250., 250., ..., 248., 248., 248.]],\n",
       "\n",
       "        [[254., 254., 254., ..., 253., 253., 253.],\n",
       "         [255., 255., 255., ..., 254., 254., 254.],\n",
       "         [250., 250., 250., ..., 249., 249., 249.]],\n",
       "\n",
       "        ...,\n",
       "\n",
       "        [[ 41.,  34.,  30., ...,  87.,  71.,  56.],\n",
       "         [ 44.,  37.,  33., ...,  89.,  73.,  58.],\n",
       "         [ 46.,  38.,  32., ...,  96.,  80.,  65.]],\n",
       "\n",
       "        [[ 36.,  32.,  31., ...,  74.,  63.,  52.],\n",
       "         [ 39.,  35.,  34., ...,  76.,  65.,  54.],\n",
       "         [ 41.,  36.,  34., ...,  83.,  73.,  61.]],\n",
       "\n",
       "        [[ 35.,  33.,  35., ...,  61.,  56.,  49.],\n",
       "         [ 38.,  36.,  38., ...,  63.,  58.,  51.],\n",
       "         [ 38.,  36.,  37., ...,  71.,  66.,  59.]]],\n",
       "\n",
       "\n",
       "       [[[ 83.,  70.,  55., ...,  66.,  60.,  64.],\n",
       "         [ 82.,  80.,  78., ...,  62.,  57.,  62.],\n",
       "         [ 98.,  94.,  89., ...,  65.,  60.,  67.]],\n",
       "\n",
       "        [[ 72.,  63.,  53., ...,  77.,  69.,  71.],\n",
       "         [ 72.,  73.,  76., ...,  63.,  58.,  61.],\n",
       "         [ 88.,  88.,  87., ...,  64.,  59.,  64.]],\n",
       "\n",
       "        [[ 54.,  51.,  48., ...,  87.,  77.,  77.],\n",
       "         [ 54.,  61.,  71., ...,  64.,  58.,  61.],\n",
       "         [ 71.,  76.,  82., ...,  61.,  56.,  62.]],\n",
       "\n",
       "        ...,\n",
       "\n",
       "        [[146., 150., 156., ...,  91.,  94.,  99.],\n",
       "         [141., 144., 151., ...,  87.,  90.,  95.],\n",
       "         [133., 136., 143., ...,  82.,  84.,  89.]],\n",
       "\n",
       "        [[181., 185., 191., ..., 163., 164., 168.],\n",
       "         [176., 180., 186., ..., 159., 159., 163.],\n",
       "         [168., 172., 178., ..., 152., 153., 157.]],\n",
       "\n",
       "        [[207., 208., 207., ..., 212., 209., 209.],\n",
       "         [202., 203., 202., ..., 207., 203., 204.],\n",
       "         [194., 195., 194., ..., 199., 196., 197.]]],\n",
       "\n",
       "\n",
       "       [[[ 33.,  35.,  39., ...,  47.,  46.,  46.],\n",
       "         [  8.,   8.,   8., ...,  42.,  41.,  41.],\n",
       "         [ 11.,  12.,  14., ...,  40.,  40.,  40.]],\n",
       "\n",
       "        [[ 37.,  38.,  39., ...,  45.,  45.,  45.],\n",
       "         [ 12.,  10.,   9., ...,  40.,  40.,  40.],\n",
       "         [ 16.,  15.,  15., ...,  39.,  39.,  39.]],\n",
       "\n",
       "        [[ 43.,  42.,  42., ...,  44.,  44.,  44.],\n",
       "         [ 14.,  13.,   9., ...,  39.,  39.,  39.],\n",
       "         [ 18.,  17.,  15., ...,  38.,  38.,  38.]],\n",
       "\n",
       "        ...,\n",
       "\n",
       "        [[ 34.,  33.,  34., ...,  80.,  77.,  75.],\n",
       "         [ 34.,  33.,  34., ...,  57.,  57.,  56.],\n",
       "         [ 37.,  36.,  37., ...,  36.,  35.,  36.]],\n",
       "\n",
       "        [[ 32.,  31.,  33., ...,  82.,  77.,  71.],\n",
       "         [ 32.,  31.,  33., ...,  57.,  55.,  53.],\n",
       "         [ 35.,  34.,  36., ...,  38.,  38.,  37.]],\n",
       "\n",
       "        [[ 32.,  30.,  32., ...,  81.,  74.,  68.],\n",
       "         [ 32.,  30.,  32., ...,  56.,  54.,  52.],\n",
       "         [ 35.,  33.,  35., ...,  38.,  38.,  37.]]],\n",
       "\n",
       "\n",
       "       ...,\n",
       "\n",
       "\n",
       "       [[[184., 184., 184., ...,  63.,  61.,  56.],\n",
       "         [196., 196., 195., ...,  68.,  66.,  61.],\n",
       "         [205., 205., 205., ...,  41.,  39.,  34.]],\n",
       "\n",
       "        [[184., 184., 185., ...,  58.,  55.,  52.],\n",
       "         [196., 196., 195., ...,  63.,  60.,  57.],\n",
       "         [205., 205., 205., ...,  36.,  33.,  30.]],\n",
       "\n",
       "        [[185., 185., 186., ...,  54.,  51.,  50.],\n",
       "         [197., 196., 196., ...,  59.,  56.,  55.],\n",
       "         [206., 206., 206., ...,  32.,  29.,  28.]],\n",
       "\n",
       "        ...,\n",
       "\n",
       "        [[135.,  75.,  54., ...,  79.,  72.,  54.],\n",
       "         [145.,  85.,  64., ...,  81.,  74.,  56.],\n",
       "         [125.,  64.,  43., ...,  70.,  64.,  45.]],\n",
       "\n",
       "        [[109.,  70.,  50., ...,  77.,  52.,  57.],\n",
       "         [116.,  77.,  58., ...,  79.,  54.,  59.],\n",
       "         [ 99.,  60.,  38., ...,  68.,  44.,  49.]],\n",
       "\n",
       "        [[ 61.,  52.,  58., ...,  97.,  49.,  61.],\n",
       "         [ 69.,  60.,  66., ..., 100.,  51.,  63.],\n",
       "         [ 51.,  42.,  46., ...,  89.,  41.,  55.]]],\n",
       "\n",
       "\n",
       "       [[[208., 208., 208., ..., 217., 214., 213.],\n",
       "         [245., 245., 245., ..., 249., 246., 244.],\n",
       "         [255., 255., 255., ..., 253., 251., 250.]],\n",
       "\n",
       "        [[208., 208., 208., ..., 217., 214., 213.],\n",
       "         [245., 245., 245., ..., 249., 246., 244.],\n",
       "         [255., 255., 255., ..., 253., 251., 250.]],\n",
       "\n",
       "        [[208., 208., 208., ..., 220., 215., 213.],\n",
       "         [245., 245., 245., ..., 251., 247., 243.],\n",
       "         [255., 255., 255., ..., 254., 251., 250.]],\n",
       "\n",
       "        ...,\n",
       "\n",
       "        [[218., 218., 218., ..., 219., 219., 219.],\n",
       "         [249., 249., 249., ..., 250., 250., 250.],\n",
       "         [254., 254., 254., ..., 255., 255., 255.]],\n",
       "\n",
       "        [[218., 218., 218., ..., 219., 219., 219.],\n",
       "         [249., 249., 249., ..., 250., 250., 250.],\n",
       "         [254., 254., 254., ..., 255., 255., 255.]],\n",
       "\n",
       "        [[218., 218., 218., ..., 219., 219., 219.],\n",
       "         [249., 249., 249., ..., 250., 250., 250.],\n",
       "         [254., 254., 254., ..., 255., 255., 255.]]],\n",
       "\n",
       "\n",
       "       [[[ 57.,  61.,  69., ...,  20.,  19.,  18.],\n",
       "         [ 77.,  80.,  87., ...,  21.,  20.,  19.],\n",
       "         [ 37.,  41.,  48., ...,  16.,  15.,  14.]],\n",
       "\n",
       "        [[ 93.,  93.,  89., ...,  26.,  21.,  19.],\n",
       "         [111., 111., 106., ...,  27.,  22.,  20.],\n",
       "         [ 73.,  74.,  70., ...,  22.,  17.,  15.]],\n",
       "\n",
       "        [[ 93.,  86.,  75., ...,  39.,  29.,  24.],\n",
       "         [110., 103.,  92., ...,  40.,  30.,  25.],\n",
       "         [ 75.,  69.,  57., ...,  35.,  25.,  21.]],\n",
       "\n",
       "        ...,\n",
       "\n",
       "        [[ 17.,  17.,  17., ..., 169., 165., 150.],\n",
       "         [ 18.,  18.,  18., ..., 174., 170., 155.],\n",
       "         [ 13.,  13.,  13., ..., 170., 166., 152.]],\n",
       "\n",
       "        [[ 18.,  18.,  18., ..., 173., 174., 163.],\n",
       "         [ 19.,  19.,  19., ..., 174., 175., 165.],\n",
       "         [ 14.,  14.,  14., ..., 174., 175., 164.]],\n",
       "\n",
       "        [[ 18.,  18.,  18., ..., 125., 122., 146.],\n",
       "         [ 19.,  19.,  19., ..., 124., 121., 145.],\n",
       "         [ 14.,  14.,  14., ..., 124., 121., 145.]]]])"
      ]
     },
     "execution_count": 7,
     "metadata": {},
     "output_type": "execute_result"
    }
   ],
   "source": [
    "np.swapaxes(train_x_shuffle,3,1)\n",
    "np.swapaxes(test_x_shuffle,3,1)\n",
    "np.swapaxes(train_x_shuffle,2,3)\n",
    "np.swapaxes(test_x_shuffle,2,3)"
   ]
  },
  {
   "cell_type": "code",
   "execution_count": 8,
   "metadata": {},
   "outputs": [],
   "source": [
    "val_size = int(train_x.shape[0] * 0.2)\n",
    "val_x = train_x_shuffle[0:val_size]\n",
    "val_y = train_y_shuffle[0:val_size]\n",
    "train_x_shuffle = train_x_shuffle[val_size:]\n",
    "train_y_shuffle = train_y_shuffle[val_size:]"
   ]
  },
  {
   "cell_type": "code",
   "execution_count": 9,
   "metadata": {},
   "outputs": [],
   "source": [
    "train_x = torch.from_numpy(train_x_shuffle)\n",
    "train_y = torch.from_numpy(train_y_shuffle)\n",
    "val_x = torch.from_numpy(val_x)\n",
    "val_y = torch.from_numpy(val_y)\n",
    "test_x = torch.from_numpy(test_x_shuffle)\n",
    "test_y = torch.from_numpy(test_y_shuffle)"
   ]
  },
  {
   "cell_type": "code",
   "execution_count": 10,
   "metadata": {},
   "outputs": [
    {
     "name": "stdout",
     "output_type": "stream",
     "text": [
      "train_x shape:  torch.Size([3336, 128, 128, 3])\n",
      "train_y shape:  torch.Size([3336])\n",
      "val_x shape:  torch.Size([834, 128, 128, 3])\n",
      "val_y shape:  torch.Size([834])\n",
      "test_x shape:  torch.Size([1994, 128, 128, 3])\n",
      "test_y shape:  torch.Size([1994])\n"
     ]
    }
   ],
   "source": [
    "print(\"train_x shape: \", train_x.size())\n",
    "print(\"train_y shape: \", train_y.size())\n",
    "print(\"val_x shape: \", val_x.size())\n",
    "print(\"val_y shape: \", val_y.size())\n",
    "print(\"test_x shape: \", test_x.size())\n",
    "print(\"test_y shape: \", test_y.size())"
   ]
  },
  {
   "cell_type": "code",
   "execution_count": 11,
   "metadata": {},
   "outputs": [],
   "source": [
    "torch.save(train_x, 'train_x.pt')\n",
    "torch.save(train_y, 'train_y.pt')\n",
    "torch.save(val_x, 'val_x.pt')\n",
    "torch.save(val_y, 'val_y.pt')\n",
    "torch.save(test_x, 'test_x.pt')\n",
    "torch.save(test_y, 'test_y.pt')"
   ]
  },
  {
   "cell_type": "code",
   "execution_count": null,
   "metadata": {},
   "outputs": [],
   "source": []
  }
 ],
 "metadata": {
  "kernelspec": {
   "display_name": "Python 3",
   "language": "python",
   "name": "python3"
  },
  "language_info": {
   "codemirror_mode": {
    "name": "ipython",
    "version": 3
   },
   "file_extension": ".py",
   "mimetype": "text/x-python",
   "name": "python",
   "nbconvert_exporter": "python",
   "pygments_lexer": "ipython3",
   "version": "3.8.6"
  }
 },
 "nbformat": 4,
 "nbformat_minor": 4
}
