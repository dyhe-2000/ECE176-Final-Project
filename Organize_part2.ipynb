{
 "cells": [
  {
   "cell_type": "code",
   "execution_count": 21,
   "metadata": {},
   "outputs": [],
   "source": [
    "import cv2 \n",
    "import numpy as np\n",
    "import torch\n",
    "import matplotlib.pyplot as plt"
   ]
  },
  {
   "cell_type": "code",
   "execution_count": 22,
   "metadata": {},
   "outputs": [],
   "source": [
    "train_x = torch.load('train_x.pt', map_location=torch.device('cpu'))\n",
    "train_y = torch.load('train_y.pt', map_location=torch.device('cpu'))\n",
    "test_x = torch.load('test_x.pt', map_location=torch.device('cpu'))\n",
    "test_y = torch.load('test_y.pt', map_location=torch.device('cpu'))"
   ]
  },
  {
   "cell_type": "code",
   "execution_count": 23,
   "metadata": {},
   "outputs": [
    {
     "output_type": "stream",
     "name": "stdout",
     "text": [
      "train_x shape:  torch.Size([6672, 3, 128, 128])\ntrain_y shape:  torch.Size([6672])\ntest_x shape:  torch.Size([1994, 3, 128, 128])\ntest_y shape:  torch.Size([1994])\n"
     ]
    }
   ],
   "source": [
    "print(\"train_x shape: \", train_x.size())\n",
    "print(\"train_y shape: \", train_y.size())\n",
    "print(\"test_x shape: \", test_x.size())\n",
    "print(\"test_y shape: \", test_y.size())"
   ]
  },
  {
   "cell_type": "code",
   "execution_count": 24,
   "metadata": {},
   "outputs": [],
   "source": [
    "train_x = train_x.numpy().astype('float32')\n",
    "train_y = train_y.numpy().astype('float32')\n",
    "test_x = test_x.numpy().astype('float32')\n",
    "test_y = test_y.numpy().astype('float32')"
   ]
  },
  {
   "cell_type": "code",
   "execution_count": 25,
   "metadata": {},
   "outputs": [
    {
     "output_type": "stream",
     "name": "stdout",
     "text": [
      "train_x shape:  (6672, 3, 128, 128)\ntrain_y shape:  (6672,)\ntest_x shape:  (1994, 3, 128, 128)\ntest_y shape:  (1994,)\n"
     ]
    }
   ],
   "source": [
    "print(\"train_x shape: \", train_x.shape)\n",
    "print(\"train_y shape: \", train_y.shape)\n",
    "print(\"test_x shape: \", test_x.shape)\n",
    "print(\"test_y shape: \", test_y.shape)"
   ]
  },
  {
   "cell_type": "code",
   "execution_count": 26,
   "metadata": {},
   "outputs": [],
   "source": [
    "idx = np.random.permutation(train_x.shape[0])\n",
    "train_x_shuffle, train_y_shuffle = train_x[idx], train_y[idx]\n",
    "idx = np.random.permutation(test_x.shape[0])\n",
    "test_x_shuffle, test_y_shuffle = test_x[idx], test_y[idx]"
   ]
  },
  {
   "cell_type": "code",
   "execution_count": 27,
   "metadata": {},
   "outputs": [],
   "source": [
    "train_x_shuffle = np.swapaxes(train_x_shuffle,3,1)\n",
    "test_x_shuffle = np.swapaxes(test_x_shuffle,3,1)\n",
    "train_x_shuffle = np.swapaxes(train_x_shuffle,2,3)\n",
    "test_x_shuffle = np.swapaxes(test_x_shuffle,2,3)"
   ]
  },
  {
   "cell_type": "code",
   "execution_count": 28,
   "metadata": {},
   "outputs": [],
   "source": [
    "val_size = int(train_x.shape[0] * 0.2)\n",
    "val_x = train_x_shuffle[0:val_size]\n",
    "val_y = train_y_shuffle[0:val_size]\n",
    "train_x_shuffle = train_x_shuffle[val_size:]\n",
    "train_y_shuffle = train_y_shuffle[val_size:]"
   ]
  },
  {
   "cell_type": "code",
   "execution_count": 37,
   "metadata": {},
   "outputs": [
    {
     "output_type": "stream",
     "name": "stdout",
     "text": [
      "Train mean: [107.59252, 103.2752, 106.84143]\nTrain std: [63.439133, 59.521027, 63.240288]\n"
     ]
    }
   ],
   "source": [
    "# Compute mean and std.\n",
    "train_mean = []\n",
    "train_std = []\n",
    "for i in range(3):\n",
    "    train_std.append(np.std(train_x[:,i,:,:]))\n",
    "    train_mean.append(np.mean(train_x[:,i,:,:]))\n",
    "print(f\"Train mean: {train_mean}\")\n",
    "print(f\"Train std: {train_std}\")"
   ]
  },
  {
   "cell_type": "code",
   "execution_count": 9,
   "metadata": {},
   "outputs": [],
   "source": [
    "train_x = torch.from_numpy(train_x_shuffle)\n",
    "train_y = torch.from_numpy(train_y_shuffle)\n",
    "val_x = torch.from_numpy(val_x)\n",
    "val_y = torch.from_numpy(val_y)\n",
    "test_x = torch.from_numpy(test_x_shuffle)\n",
    "test_y = torch.from_numpy(test_y_shuffle)"
   ]
  },
  {
   "cell_type": "code",
   "execution_count": null,
   "metadata": {},
   "outputs": [],
   "source": [
    "# Normalize input\n",
    "import torchvision as T\n",
    "transform = T.Compose([\n",
    "                T.Normalize(train_mean, train_std)\n",
    "            ])\n"
   ]
  },
  {
   "cell_type": "code",
   "execution_count": 10,
   "metadata": {},
   "outputs": [
    {
     "output_type": "stream",
     "name": "stdout",
     "text": [
      "train_x shape:  torch.Size([6672, 3, 128, 128])\ntrain_y shape:  torch.Size([6672])\nval_x shape:  torch.Size([1668, 3, 128, 128])\nval_y shape:  torch.Size([1668])\ntest_x shape:  torch.Size([1994, 3, 128, 128])\ntest_y shape:  torch.Size([1994])\n"
     ]
    }
   ],
   "source": [
    "print(\"train_x shape: \", train_x.size())\n",
    "print(\"train_y shape: \", train_y.size())\n",
    "print(\"val_x shape: \", val_x.size())\n",
    "print(\"val_y shape: \", val_y.size())\n",
    "print(\"test_x shape: \", test_x.size())\n",
    "print(\"test_y shape: \", test_y.size())"
   ]
  },
  {
   "cell_type": "code",
   "execution_count": 11,
   "metadata": {},
   "outputs": [],
   "source": [
    "torch.save(train_x, 'train_x.pt')\n",
    "torch.save(train_y, 'train_y.pt')\n",
    "torch.save(val_x, 'val_x.pt')\n",
    "torch.save(val_y, 'val_y.pt')\n",
    "torch.save(test_x, 'test_x.pt')\n",
    "torch.save(test_y, 'test_y.pt')"
   ]
  },
  {
   "cell_type": "code",
   "execution_count": 12,
   "metadata": {},
   "outputs": [],
   "source": [
    "train_x = train_x.numpy().astype('float32')\n",
    "train_y = train_y.numpy().astype('float32')\n",
    "val_x = val_x.numpy().astype('float32')\n",
    "val_y = val_y.numpy().astype('float32')\n",
    "test_x = test_x.numpy().astype('float32')\n",
    "test_y = test_y.numpy().astype('float32')"
   ]
  },
  {
   "cell_type": "code",
   "execution_count": 13,
   "metadata": {},
   "outputs": [
    {
     "output_type": "stream",
     "name": "stdout",
     "text": [
      "train_x shape:  (6672, 3, 128, 128)\ntrain_y shape:  (6672,)\nval_x shape:  (1668, 3, 128, 128)\nval_y shape:  (1668,)\ntest_x shape:  (1994, 3, 128, 128)\ntest_y shape:  (1994,)\n"
     ]
    }
   ],
   "source": [
    "print(\"train_x shape: \", train_x.shape)\n",
    "print(\"train_y shape: \", train_y.shape)\n",
    "print(\"val_x shape: \", val_x.shape)\n",
    "print(\"val_y shape: \", val_y.shape)\n",
    "print(\"test_x shape: \", test_x.shape)\n",
    "print(\"test_y shape: \", test_y.shape)"
   ]
  },
  {
   "cell_type": "code",
   "execution_count": 14,
   "metadata": {},
   "outputs": [],
   "source": [
    "train_x_rotate = np.zeros((train_x.shape[0] * 4, train_x.shape[1], train_x.shape[2], train_x.shape[3]))\n",
    "train_y_rotate = np.zeros((train_y.shape[0] * 4, 2))\n",
    "val_x_rotate = np.zeros((val_x.shape[0] * 4, val_x.shape[1], val_x.shape[2], val_x.shape[3]))\n",
    "val_y_rotate = np.zeros((val_y.shape[0] * 4, 2))\n",
    "test_x_rotate = np.zeros((test_x.shape[0] * 4, test_x.shape[1], test_x.shape[2], test_x.shape[3]))\n",
    "test_y_rotate = np.zeros((test_y.shape[0] * 4, 2))"
   ]
  },
  {
   "cell_type": "code",
   "execution_count": 15,
   "metadata": {},
   "outputs": [
    {
     "output_type": "stream",
     "name": "stdout",
     "text": [
      "train_x_rotate shape:  (26688, 3, 128, 128)\ntrain_y_rotate shape:  (26688, 2)\nval_x_rotate shape:  (6672, 3, 128, 128)\nval_y_rotate shape:  (6672, 2)\ntest_x_rotate shape:  (7976, 3, 128, 128)\ntest_y_rotate shape:  (7976, 2)\n"
     ]
    }
   ],
   "source": [
    "print(\"train_x_rotate shape: \", train_x_rotate.shape)\n",
    "print(\"train_y_rotate shape: \", train_y_rotate.shape)\n",
    "print(\"val_x_rotate shape: \", val_x_rotate.shape)\n",
    "print(\"val_y_rotate shape: \", val_y_rotate.shape)\n",
    "print(\"test_x_rotate shape: \", test_x_rotate.shape)\n",
    "print(\"test_y_rotate shape: \", test_y_rotate.shape)"
   ]
  },
  {
   "cell_type": "code",
   "execution_count": 16,
   "metadata": {},
   "outputs": [],
   "source": [
    "for i in range(train_x.shape[0]):\n",
    "    train_x_rotate[i * 4 + 0] = train_x[i]\n",
    "    train_y_rotate[i * 4 + 0][0] = train_y[i]\n",
    "    train_y_rotate[i * 4 + 0][1] = 0\n",
    "    \n",
    "    train_x_rotate[i * 4 + 1][0] = np.rot90(train_x[i][0])\n",
    "    train_x_rotate[i * 4 + 1][1] = np.rot90(train_x[i][1])\n",
    "    train_x_rotate[i * 4 + 1][2] = np.rot90(train_x[i][2])\n",
    "    train_y_rotate[i * 4 + 1][0] = train_y[i]\n",
    "    train_y_rotate[i * 4 + 1][1] = 1\n",
    "    \n",
    "    train_x_rotate[i * 4 + 2][0] = np.rot90(np.rot90(train_x[i][0]))\n",
    "    train_x_rotate[i * 4 + 2][1] = np.rot90(np.rot90(train_x[i][1]))\n",
    "    train_x_rotate[i * 4 + 2][2] = np.rot90(np.rot90(train_x[i][2]))\n",
    "    train_y_rotate[i * 4 + 2][0] = train_y[i]\n",
    "    train_y_rotate[i * 4 + 2][1] = 2\n",
    "    \n",
    "    train_x_rotate[i * 4 + 3][0] = np.rot90(np.rot90(np.rot90(train_x[i][0])))\n",
    "    train_x_rotate[i * 4 + 3][1] = np.rot90(np.rot90(np.rot90(train_x[i][1])))\n",
    "    train_x_rotate[i * 4 + 3][2] = np.rot90(np.rot90(np.rot90(train_x[i][2])))\n",
    "    train_y_rotate[i * 4 + 3][0] = train_y[i]\n",
    "    train_y_rotate[i * 4 + 3][1] = 3\n",
    "    \n",
    "for i in range(val_x.shape[0]):\n",
    "    val_x_rotate[i * 4 + 0] = val_x[i]\n",
    "    val_y_rotate[i * 4 + 0][0] = val_y[i]\n",
    "    val_y_rotate[i * 4 + 0][1] = 0\n",
    "    \n",
    "    val_x_rotate[i * 4 + 1][0] = np.rot90(val_x[i][0])\n",
    "    val_x_rotate[i * 4 + 1][1] = np.rot90(val_x[i][1])\n",
    "    val_x_rotate[i * 4 + 1][2] = np.rot90(val_x[i][2])\n",
    "    val_y_rotate[i * 4 + 1][0] = val_y[i]\n",
    "    val_y_rotate[i * 4 + 1][1] = 1\n",
    "    \n",
    "    val_x_rotate[i * 4 + 2][0] = np.rot90(np.rot90(val_x[i][0]))\n",
    "    val_x_rotate[i * 4 + 2][1] = np.rot90(np.rot90(val_x[i][1]))\n",
    "    val_x_rotate[i * 4 + 2][2] = np.rot90(np.rot90(val_x[i][2]))\n",
    "    val_y_rotate[i * 4 + 2][0] = val_y[i]\n",
    "    val_y_rotate[i * 4 + 2][1] = 2\n",
    "    \n",
    "    val_x_rotate[i * 4 + 3][0] = np.rot90(np.rot90(np.rot90(val_x[i][0])))\n",
    "    val_x_rotate[i * 4 + 3][1] = np.rot90(np.rot90(np.rot90(val_x[i][1])))\n",
    "    val_x_rotate[i * 4 + 3][2] = np.rot90(np.rot90(np.rot90(val_x[i][2])))\n",
    "    val_y_rotate[i * 4 + 3][0] = val_y[i]\n",
    "    val_y_rotate[i * 4 + 3][1] = 3\n",
    "    \n",
    "for i in range(test_x.shape[0]):\n",
    "    test_x_rotate[i * 4 + 0] = test_x[i]\n",
    "    test_y_rotate[i * 4 + 0][0] = test_y[i]\n",
    "    test_y_rotate[i * 4 + 0][1] = 0\n",
    "    \n",
    "    test_x_rotate[i * 4 + 1][0] = np.rot90(test_x[i][0])\n",
    "    test_x_rotate[i * 4 + 1][1] = np.rot90(test_x[i][1])\n",
    "    test_x_rotate[i * 4 + 1][2] = np.rot90(test_x[i][2])\n",
    "    test_y_rotate[i * 4 + 1][0] = test_y[i]\n",
    "    test_y_rotate[i * 4 + 1][1] = 1\n",
    "    \n",
    "    test_x_rotate[i * 4 + 2][0] = np.rot90(np.rot90(test_x[i][0]))\n",
    "    test_x_rotate[i * 4 + 2][1] = np.rot90(np.rot90(test_x[i][1]))\n",
    "    test_x_rotate[i * 4 + 2][2] = np.rot90(np.rot90(test_x[i][2]))\n",
    "    test_y_rotate[i * 4 + 2][0] = test_y[i]\n",
    "    test_y_rotate[i * 4 + 2][1] = 2\n",
    "    \n",
    "    test_x_rotate[i * 4 + 3][0] = np.rot90(np.rot90(np.rot90(test_x[i][0])))\n",
    "    test_x_rotate[i * 4 + 3][1] = np.rot90(np.rot90(np.rot90(test_x[i][1])))\n",
    "    test_x_rotate[i * 4 + 3][2] = np.rot90(np.rot90(np.rot90(test_x[i][2])))\n",
    "    test_y_rotate[i * 4 + 3][0] = test_y[i]\n",
    "    test_y_rotate[i * 4 + 3][1] = 3"
   ]
  },
  {
   "cell_type": "code",
   "execution_count": 17,
   "metadata": {},
   "outputs": [],
   "source": [
    "train_x_rotate = torch.from_numpy(train_x_rotate)\n",
    "train_y_rotate = torch.from_numpy(train_y_rotate)\n",
    "val_x_rotate = torch.from_numpy(val_x_rotate)\n",
    "val_y_rotate = torch.from_numpy(val_y_rotate)\n",
    "test_x_rotate = torch.from_numpy(test_x_rotate)\n",
    "test_y_rotate = torch.from_numpy(test_y_rotate)"
   ]
  },
  {
   "cell_type": "code",
   "execution_count": 18,
   "metadata": {},
   "outputs": [],
   "source": [
    "torch.save(train_x_rotate, 'train_x_rotate.pt')\n",
    "torch.save(train_y_rotate, 'train_y_rotate.pt')\n",
    "torch.save(val_x_rotate, 'val_x_rotate.pt')\n",
    "torch.save(val_y_rotate, 'val_y_rotate.pt')\n",
    "torch.save(test_x_rotate, 'test_x_rotate.pt')\n",
    "torch.save(test_y_rotate, 'test_y_rotate.pt')"
   ]
  },
  {
   "cell_type": "code",
   "execution_count": 19,
   "metadata": {},
   "outputs": [
    {
     "output_type": "stream",
     "name": "stdout",
     "text": [
      "train_x_rotate shape:  torch.Size([26688, 3, 128, 128])\ntrain_y_rotate shape:  torch.Size([26688, 2])\nval_x_rotate shape:  torch.Size([6672, 3, 128, 128])\nval_y_rotate shape:  torch.Size([6672, 2])\ntest_x_rotate shape:  torch.Size([7976, 3, 128, 128])\ntest_y_rotate shape:  torch.Size([7976, 2])\n"
     ]
    }
   ],
   "source": [
    "print(\"train_x_rotate shape: \", train_x_rotate.size())\n",
    "print(\"train_y_rotate shape: \", train_y_rotate.size())\n",
    "print(\"val_x_rotate shape: \", val_x_rotate.size())\n",
    "print(\"val_y_rotate shape: \", val_y_rotate.size())\n",
    "print(\"test_x_rotate shape: \", test_x_rotate.size())\n",
    "print(\"test_y_rotate shape: \", test_y_rotate.size())"
   ]
  },
  {
   "cell_type": "code",
   "execution_count": null,
   "metadata": {},
   "outputs": [],
   "source": []
  }
 ],
 "metadata": {
  "kernelspec": {
   "display_name": "Python 3",
   "language": "python",
   "name": "python3"
  },
  "language_info": {
   "codemirror_mode": {
    "name": "ipython",
    "version": 3
   },
   "file_extension": ".py",
   "mimetype": "text/x-python",
   "name": "python",
   "nbconvert_exporter": "python",
   "pygments_lexer": "ipython3",
   "version": "3.8.5-final"
  }
 },
 "nbformat": 4,
 "nbformat_minor": 4
}