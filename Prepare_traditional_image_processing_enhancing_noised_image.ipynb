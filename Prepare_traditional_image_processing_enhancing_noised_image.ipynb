{
 "cells": [
  {
   "cell_type": "code",
   "execution_count": null,
   "metadata": {},
   "outputs": [],
   "source": [
    "import cv2 \n",
    "import numpy as np\n",
    "import torch\n",
    "import matplotlib.pyplot as plt"
   ]
  },
  {
   "cell_type": "code",
   "execution_count": null,
   "metadata": {},
   "outputs": [],
   "source": [
    "train_x = torch.load('train_x.pt', map_location=torch.device('cpu'))\n",
    "train_y = torch.load('train_y.pt', map_location=torch.device('cpu'))\n",
    "test_x = torch.load('test_x.pt', map_location=torch.device('cpu'))\n",
    "test_y = torch.load('test_y.pt', map_location=torch.device('cpu'))"
   ]
  },
  {
   "cell_type": "code",
   "execution_count": null,
   "metadata": {},
   "outputs": [],
   "source": [
    "print(\"train_x shape: \", train_x.size())\n",
    "print(\"train_y shape: \", train_y.size())\n",
    "print(\"test_x shape: \", test_x.size())\n",
    "print(\"test_y shape: \", test_y.size())"
   ]
  },
  {
   "cell_type": "code",
   "execution_count": null,
   "metadata": {},
   "outputs": [],
   "source": [
    "train_x = train_x.numpy().astype('float32')\n",
    "train_y = train_y.numpy().astype('float32')\n",
    "test_x = test_x.numpy().astype('float32')\n",
    "test_y = test_y.numpy().astype('float32')"
   ]
  },
  {
   "cell_type": "code",
   "execution_count": null,
   "metadata": {},
   "outputs": [],
   "source": [
    "print(\"train_x shape: \", train_x.shape)\n",
    "print(\"train_y shape: \", train_y.shape)\n",
    "print(\"test_x shape: \", test_x.shape)\n",
    "print(\"test_y shape: \", test_y.shape)"
   ]
  },
  {
   "cell_type": "code",
   "execution_count": null,
   "metadata": {},
   "outputs": [],
   "source": [
    "idx = np.random.permutation(train_x.shape[0])\n",
    "train_x_shuffle, train_y_shuffle = train_x[idx], train_y[idx]\n",
    "idx = np.random.permutation(test_x.shape[0])\n",
    "test_x_shuffle, test_y_shuffle = test_x[idx], test_y[idx]"
   ]
  },
  {
   "cell_type": "code",
   "execution_count": null,
   "metadata": {},
   "outputs": [],
   "source": [
    "train_x_shuffle = np.swapaxes(train_x_shuffle,3,1)\n",
    "test_x_shuffle = np.swapaxes(test_x_shuffle,3,1)\n",
    "train_x_shuffle = np.swapaxes(train_x_shuffle,2,3)\n",
    "test_x_shuffle = np.swapaxes(test_x_shuffle,2,3)"
   ]
  },
  {
   "cell_type": "code",
   "execution_count": null,
   "metadata": {},
   "outputs": [],
   "source": [
    "val_size = int(train_x.shape[0] * 0.2)\n",
    "val_x = train_x_shuffle[0:val_size]\n",
    "val_y = train_y_shuffle[0:val_size]\n",
    "train_x_shuffle = train_x_shuffle[val_size:]\n",
    "train_y_shuffle = train_y_shuffle[val_size:]"
   ]
  },
  {
   "cell_type": "code",
   "execution_count": null,
   "metadata": {},
   "outputs": [],
   "source": [
    "train_x = torch.from_numpy(train_x_shuffle)\n",
    "train_y = torch.from_numpy(train_y_shuffle)\n",
    "val_x = torch.from_numpy(val_x)\n",
    "val_y = torch.from_numpy(val_y)\n",
    "test_x = torch.from_numpy(test_x_shuffle)\n",
    "test_y = torch.from_numpy(test_y_shuffle)"
   ]
  },
  {
   "cell_type": "code",
   "execution_count": null,
   "metadata": {},
   "outputs": [],
   "source": [
    "train_x = train_x.numpy().astype('float32')\n",
    "train_y = train_y.numpy().astype('float32')\n",
    "val_x = val_x.numpy().astype('float32')\n",
    "val_y = val_y.numpy().astype('float32')\n",
    "test_x = test_x.numpy().astype('float32')\n",
    "test_y = test_y.numpy().astype('float32')"
   ]
  },
  {
   "cell_type": "code",
   "execution_count": null,
   "metadata": {},
   "outputs": [],
   "source": [
    "print(\"train_x shape: \", train_x.shape)\n",
    "print(\"train_y shape: \", train_y.shape)\n",
    "print(\"val_x shape: \", val_x.shape)\n",
    "print(\"val_y shape: \", val_y.shape)\n",
    "print(\"test_x shape: \", test_x.shape)\n",
    "print(\"test_y shape: \", test_y.shape)"
   ]
  },
  {
   "cell_type": "code",
   "execution_count": null,
   "metadata": {},
   "outputs": [],
   "source": [
    "train_x_rotate = np.zeros((train_x.shape[0] * 4, train_x.shape[1], train_x.shape[2], train_x.shape[3]))\n",
    "train_y_rotate = np.zeros((train_y.shape[0] * 4, 2))\n",
    "val_x_rotate = np.zeros((val_x.shape[0] * 4, val_x.shape[1], val_x.shape[2], val_x.shape[3]))\n",
    "val_y_rotate = np.zeros((val_y.shape[0] * 4, 2))\n",
    "test_x_rotate = np.zeros((test_x.shape[0] * 4, test_x.shape[1], test_x.shape[2], test_x.shape[3]))\n",
    "test_y_rotate = np.zeros((test_y.shape[0] * 4, 2))"
   ]
  },
  {
   "cell_type": "code",
   "execution_count": null,
   "metadata": {},
   "outputs": [],
   "source": [
    "print(\"train_x_rotate shape: \", train_x_rotate.shape)\n",
    "print(\"train_y_rotate shape: \", train_y_rotate.shape)\n",
    "print(\"val_x_rotate shape: \", val_x_rotate.shape)\n",
    "print(\"val_y_rotate shape: \", val_y_rotate.shape)\n",
    "print(\"test_x_rotate shape: \", test_x_rotate.shape)\n",
    "print(\"test_y_rotate shape: \", test_y_rotate.shape)"
   ]
  },
  {
   "cell_type": "code",
   "execution_count": null,
   "metadata": {},
   "outputs": [],
   "source": [
    "for i in range(train_x.shape[0]):\n",
    "    train_x_rotate[i * 4 + 0] = train_x[i]\n",
    "    train_y_rotate[i * 4 + 0][0] = train_y[i]\n",
    "    train_y_rotate[i * 4 + 0][1] = 0\n",
    "    \n",
    "    train_x_rotate[i * 4 + 1][0] = np.rot90(train_x[i][0])\n",
    "    train_x_rotate[i * 4 + 1][1] = np.rot90(train_x[i][1])\n",
    "    train_x_rotate[i * 4 + 1][2] = np.rot90(train_x[i][2])\n",
    "    train_y_rotate[i * 4 + 1][0] = train_y[i]\n",
    "    train_y_rotate[i * 4 + 1][1] = 1\n",
    "    \n",
    "    train_x_rotate[i * 4 + 2][0] = np.rot90(np.rot90(train_x[i][0]))\n",
    "    train_x_rotate[i * 4 + 2][1] = np.rot90(np.rot90(train_x[i][1]))\n",
    "    train_x_rotate[i * 4 + 2][2] = np.rot90(np.rot90(train_x[i][2]))\n",
    "    train_y_rotate[i * 4 + 2][0] = train_y[i]\n",
    "    train_y_rotate[i * 4 + 2][1] = 2\n",
    "    \n",
    "    train_x_rotate[i * 4 + 3][0] = np.rot90(np.rot90(np.rot90(train_x[i][0])))\n",
    "    train_x_rotate[i * 4 + 3][1] = np.rot90(np.rot90(np.rot90(train_x[i][1])))\n",
    "    train_x_rotate[i * 4 + 3][2] = np.rot90(np.rot90(np.rot90(train_x[i][2])))\n",
    "    train_y_rotate[i * 4 + 3][0] = train_y[i]\n",
    "    train_y_rotate[i * 4 + 3][1] = 3\n",
    "    \n",
    "for i in range(val_x.shape[0]):\n",
    "    val_x_rotate[i * 4 + 0] = val_x[i]\n",
    "    val_y_rotate[i * 4 + 0][0] = val_y[i]\n",
    "    val_y_rotate[i * 4 + 0][1] = 0\n",
    "    \n",
    "    val_x_rotate[i * 4 + 1][0] = np.rot90(val_x[i][0])\n",
    "    val_x_rotate[i * 4 + 1][1] = np.rot90(val_x[i][1])\n",
    "    val_x_rotate[i * 4 + 1][2] = np.rot90(val_x[i][2])\n",
    "    val_y_rotate[i * 4 + 1][0] = val_y[i]\n",
    "    val_y_rotate[i * 4 + 1][1] = 1\n",
    "    \n",
    "    val_x_rotate[i * 4 + 2][0] = np.rot90(np.rot90(val_x[i][0]))\n",
    "    val_x_rotate[i * 4 + 2][1] = np.rot90(np.rot90(val_x[i][1]))\n",
    "    val_x_rotate[i * 4 + 2][2] = np.rot90(np.rot90(val_x[i][2]))\n",
    "    val_y_rotate[i * 4 + 2][0] = val_y[i]\n",
    "    val_y_rotate[i * 4 + 2][1] = 2\n",
    "    \n",
    "    val_x_rotate[i * 4 + 3][0] = np.rot90(np.rot90(np.rot90(val_x[i][0])))\n",
    "    val_x_rotate[i * 4 + 3][1] = np.rot90(np.rot90(np.rot90(val_x[i][1])))\n",
    "    val_x_rotate[i * 4 + 3][2] = np.rot90(np.rot90(np.rot90(val_x[i][2])))\n",
    "    val_y_rotate[i * 4 + 3][0] = val_y[i]\n",
    "    val_y_rotate[i * 4 + 3][1] = 3\n",
    "    \n",
    "for i in range(test_x.shape[0]):\n",
    "    test_x_rotate[i * 4 + 0] = test_x[i]\n",
    "    test_y_rotate[i * 4 + 0][0] = test_y[i]\n",
    "    test_y_rotate[i * 4 + 0][1] = 0\n",
    "    \n",
    "    test_x_rotate[i * 4 + 1][0] = np.rot90(test_x[i][0])\n",
    "    test_x_rotate[i * 4 + 1][1] = np.rot90(test_x[i][1])\n",
    "    test_x_rotate[i * 4 + 1][2] = np.rot90(test_x[i][2])\n",
    "    test_y_rotate[i * 4 + 1][0] = test_y[i]\n",
    "    test_y_rotate[i * 4 + 1][1] = 1\n",
    "    \n",
    "    test_x_rotate[i * 4 + 2][0] = np.rot90(np.rot90(test_x[i][0]))\n",
    "    test_x_rotate[i * 4 + 2][1] = np.rot90(np.rot90(test_x[i][1]))\n",
    "    test_x_rotate[i * 4 + 2][2] = np.rot90(np.rot90(test_x[i][2]))\n",
    "    test_y_rotate[i * 4 + 2][0] = test_y[i]\n",
    "    test_y_rotate[i * 4 + 2][1] = 2\n",
    "    \n",
    "    test_x_rotate[i * 4 + 3][0] = np.rot90(np.rot90(np.rot90(test_x[i][0])))\n",
    "    test_x_rotate[i * 4 + 3][1] = np.rot90(np.rot90(np.rot90(test_x[i][1])))\n",
    "    test_x_rotate[i * 4 + 3][2] = np.rot90(np.rot90(np.rot90(test_x[i][2])))\n",
    "    test_y_rotate[i * 4 + 3][0] = test_y[i]\n",
    "    test_y_rotate[i * 4 + 3][1] = 3"
   ]
  },
  {
   "cell_type": "code",
   "execution_count": null,
   "metadata": {},
   "outputs": [],
   "source": [
    "print(\"test_x shape: \", test_x.shape)\n",
    "print(\"test_x_rotate shape: \", test_x_rotate.shape)"
   ]
  },
  {
   "cell_type": "code",
   "execution_count": null,
   "metadata": {},
   "outputs": [],
   "source": [
    "test_x = np.swapaxes(test_x,3,1)\n",
    "test_x_rotate = np.swapaxes(test_x_rotate,3,1)\n",
    "test_x = np.swapaxes(test_x,2,1)\n",
    "test_x_rotate = np.swapaxes(test_x_rotate,2,1)\n",
    "print(\"test_x shape: \", test_x.shape)\n",
    "print(\"test_x_rotate shape: \", test_x_rotate.shape)"
   ]
  },
  {
   "cell_type": "code",
   "execution_count": null,
   "metadata": {},
   "outputs": [],
   "source": [
    "test_y = torch.from_numpy(test_y)\n",
    "test_y_rotate = torch.from_numpy(test_y_rotate)\n",
    "print(test_y.size())\n",
    "print(test_y_rotate.size())"
   ]
  },
  {
   "cell_type": "markdown",
   "metadata": {},
   "source": [
    "# prepare enhanced impulse"
   ]
  },
  {
   "cell_type": "code",
   "execution_count": null,
   "metadata": {},
   "outputs": [],
   "source": [
    "import skimage as sk\n",
    "def impulse_noise(x, severity=5):\n",
    "    c = [.01, .02, .03, .05, .07][severity - 1]\n",
    "\n",
    "    x = sk.util.random_noise(np.array(x) / 255., mode='s&p', amount=c)\n",
    "    return np.clip(x, 0, 1) * 255"
   ]
  },
  {
   "cell_type": "code",
   "execution_count": null,
   "metadata": {},
   "outputs": [],
   "source": [
    "def median_filter(image, winSize):\n",
    "    '''\n",
    "    output same size image as input image\n",
    "    '''\n",
    "    padding_size = int((winSize - 1) / 2)\n",
    "    padded_image = np.pad(image, padding_size, mode='edge')\n",
    "    output_image = np.zeros(image.shape, dtype=np.uint8)\n",
    "    for i in range(image.shape[0]):\n",
    "        for j in range(image.shape[1]):\n",
    "            # current_pixel = padded_image[i + padding_size][j + padding_size]\n",
    "            image_block = padded_image[i:i+winSize, j:j+winSize] # 0:3 -> 0 1 2\n",
    "            output_image[i][j] = np.median(image_block)\n",
    "    return output_image\n",
    "    \n",
    "# Median filter, 3x3 neighborhood\n",
    "# blue_channel = forest_image[:,:,0]\n",
    "# green_channel = forest_image[:,:,1]\n",
    "# red_channel = forest_image[:,:,2] #takes red component of image\n",
    "# filtered_img = np.zeros(forest_image.shape, dtype=np.uint8)\n",
    "# filtered_img[:,:,0] = median_filter(blue_channel, 3)\n",
    "# filtered_img[:,:,1] = median_filter(green_channel, 3)\n",
    "# filtered_img[:,:,2] = median_filter(red_channel, 3)"
   ]
  },
  {
   "cell_type": "code",
   "execution_count": null,
   "metadata": {},
   "outputs": [],
   "source": [
    "test_x_enhanced_impulse = np.zeros(test_x.shape)\n",
    "test_x_rotate_enhanced_impulse = np.zeros(test_x_rotate.shape)\n",
    "print(\"test_x_enhanced_impulse shape: \", test_x_enhanced_impulse.shape)\n",
    "print(\"test_x_rotate_enhanced_impulse shape: \", test_x_rotate_enhanced_impulse.shape)"
   ]
  },
  {
   "cell_type": "code",
   "execution_count": null,
   "metadata": {},
   "outputs": [],
   "source": [
    "for i in range(test_x.shape[0]):\n",
    "    noisy_i = impulse_noise(test_x[i])\n",
    "    \n",
    "    blue_channel = noisy_i[:,:,0]\n",
    "    green_channel = noisy_i[:,:,1]\n",
    "    red_channel = noisy_i[:,:,2]\n",
    "    filtered_img = np.zeros(noisy_i.shape, dtype=np.float32)\n",
    "    filtered_img[:,:,0] = median_filter(blue_channel, 3)\n",
    "    filtered_img[:,:,1] = median_filter(green_channel, 3)\n",
    "    filtered_img[:,:,2] = median_filter(red_channel, 3)\n",
    "    \n",
    "    test_x_enhanced_impulse[i] = filtered_img\n",
    "    \n",
    "for i in range(test_x_rotate.shape[0]):\n",
    "    noisy_i = impulse_noise(test_x_rotate[i])\n",
    "    \n",
    "    blue_channel = noisy_i[:,:,0]\n",
    "    green_channel = noisy_i[:,:,1]\n",
    "    red_channel = noisy_i[:,:,2]\n",
    "    filtered_img = np.zeros(noisy_i.shape, dtype=np.float32)\n",
    "    filtered_img[:,:,0] = median_filter(blue_channel, 3)\n",
    "    filtered_img[:,:,1] = median_filter(green_channel, 3)\n",
    "    filtered_img[:,:,2] = median_filter(red_channel, 3)\n",
    "    \n",
    "    test_x_rotate_enhanced_impulse[i] = filtered_img"
   ]
  },
  {
   "cell_type": "code",
   "execution_count": null,
   "metadata": {},
   "outputs": [],
   "source": [
    "cv2.imwrite(\"test_100.png\", test_x[100])\n",
    "cv2.imwrite(\"test_101.png\", test_x[101])\n",
    "cv2.imwrite(\"test_102.png\", test_x[102])\n",
    "cv2.imwrite(\"test_103.png\", test_x[103])\n",
    "cv2.imwrite(\"test_104.png\", test_x[104])\n",
    "cv2.imwrite(\"test_100_impulse.png\", impulse_noise(test_x[100]))\n",
    "cv2.imwrite(\"test_101_impulse.png\", impulse_noise(test_x[101]))\n",
    "cv2.imwrite(\"test_102_impulse.png\", impulse_noise(test_x[102]))\n",
    "cv2.imwrite(\"test_103_impulse.png\", impulse_noise(test_x[103]))\n",
    "cv2.imwrite(\"test_104_impulse.png\", impulse_noise(test_x[104]))\n",
    "cv2.imwrite(\"test_100_enhanced_impulse.png\", test_x_enhanced_impulse[100])\n",
    "cv2.imwrite(\"test_101_enhanced_impulse.png\", test_x_enhanced_impulse[101])\n",
    "cv2.imwrite(\"test_102_enhanced_impulse.png\", test_x_enhanced_impulse[102])\n",
    "cv2.imwrite(\"test_103_enhanced_impulse.png\", test_x_enhanced_impulse[103])\n",
    "cv2.imwrite(\"test_104_enhanced_impulse.png\", test_x_enhanced_impulse[104])"
   ]
  },
  {
   "cell_type": "code",
   "execution_count": null,
   "metadata": {},
   "outputs": [],
   "source": [
    "test_x_enhanced_impulse = np.swapaxes(test_x_enhanced_impulse,3,1)\n",
    "test_x_rotate_enhanced_impulse = np.swapaxes(test_x_rotate_enhanced_impulse,3,1)\n",
    "test_x_enhanced_impulse = np.swapaxes(test_x_enhanced_impulse,2,3)\n",
    "test_x_rotate_enhanced_impulse = np.swapaxes(test_x_rotate_enhanced_impulse,2,3)\n",
    "print(\"test_x_enhanced_impulse shape: \", test_x_enhanced_impulse.shape)\n",
    "print(\"test_x_rotate_enhanced_impulse shape: \", test_x_rotate_enhanced_impulse.shape)"
   ]
  },
  {
   "cell_type": "code",
   "execution_count": null,
   "metadata": {},
   "outputs": [],
   "source": [
    "# Compute mean and std.\n",
    "train_mean = []\n",
    "train_std = []\n",
    "for i in range(3):\n",
    "    s = np.std(train_x[:,i,:,:])\n",
    "    m = np.mean(train_x[:,i,:,:])\n",
    "    \n",
    "    test_x_enhanced_impulse[:,i,:,:] = (test_x_impulse[:,i,:,:] - m) / s\n",
    "    test_x_rotate_enhanced_impulse[:,i,:,:] = (test_x_rotate_impulse[:,i,:,:] - m) / s\n",
    "    \n",
    "    train_std.append(np.std(train_x[:,i,:,:]))\n",
    "    train_mean.append(np.mean(train_x[:,i,:,:]))\n",
    "print(f\"Train mean: {train_mean}\")\n",
    "print(f\"Train std: {train_std}\")"
   ]
  },
  {
   "cell_type": "code",
   "execution_count": null,
   "metadata": {},
   "outputs": [],
   "source": [
    "test_x_enhanced_impulse = torch.from_numpy(test_x_enhanced_impulse)\n",
    "test_x_rotate_enhanced_impulse = torch.from_numpy(test_x_rotate_enhanced_impulse)\n",
    "print(test_x_enhanced_impulse.size())\n",
    "print(test_x_rotate_enhanced_impulse.size())"
   ]
  },
  {
   "cell_type": "code",
   "execution_count": null,
   "metadata": {},
   "outputs": [],
   "source": [
    "torch.save(test_x_impulse, 'test_x_impulse.pt')\n",
    "torch.save(test_y, 'test_y_impulse.pt')\n",
    "torch.save(test_x_rotate_impulse, 'test_x_rotate_impulse.pt')\n",
    "torch.save(test_y_rotate, 'test_y_rotate_impulse.pt')\n",
    "\n",
    "del test_x_impulse\n",
    "del test_x_rotate_impulse\n"
   ]
  }
 ],
 "metadata": {
  "kernelspec": {
   "display_name": "Python 3",
   "language": "python",
   "name": "python3"
  },
  "language_info": {
   "codemirror_mode": {
    "name": "ipython",
    "version": 3
   },
   "file_extension": ".py",
   "mimetype": "text/x-python",
   "name": "python",
   "nbconvert_exporter": "python",
   "pygments_lexer": "ipython3",
   "version": "3.8.6"
  }
 },
 "nbformat": 4,
 "nbformat_minor": 4
}
