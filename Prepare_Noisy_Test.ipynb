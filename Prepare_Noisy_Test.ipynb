{
 "cells": [
  {
   "cell_type": "markdown",
   "metadata": {},
   "source": [
    "# citation for noise methods: https://github.com/hendrycks/robustness/blob/master/ImageNet-C/create_c/make_cifar_c.py\n",
    "\n",
    "https://stackoverflow.com/questions/22937589/how-to-add-noise-gaussian-salt-and-pepper-etc-to-image-in-python-with-opencv"
   ]
  },
  {
   "cell_type": "code",
   "execution_count": 1,
   "metadata": {},
   "outputs": [],
   "source": [
    "import cv2 \n",
    "import numpy as np\n",
    "import torch\n",
    "import matplotlib.pyplot as plt"
   ]
  },
  {
   "cell_type": "code",
   "execution_count": 2,
   "metadata": {},
   "outputs": [],
   "source": [
    "train_x = torch.load('train_x.pt', map_location=torch.device('cpu'))\n",
    "train_y = torch.load('train_y.pt', map_location=torch.device('cpu'))\n",
    "test_x = torch.load('test_x.pt', map_location=torch.device('cpu'))\n",
    "test_y = torch.load('test_y.pt', map_location=torch.device('cpu'))"
   ]
  },
  {
   "cell_type": "code",
   "execution_count": 3,
   "metadata": {},
   "outputs": [
    {
     "name": "stdout",
     "output_type": "stream",
     "text": [
      "train_x shape:  torch.Size([39209, 50, 50, 3])\n",
      "train_y shape:  torch.Size([39209])\n",
      "test_x shape:  torch.Size([12630, 50, 50, 3])\n",
      "test_y shape:  torch.Size([12630])\n"
     ]
    }
   ],
   "source": [
    "print(\"train_x shape: \", train_x.size())\n",
    "print(\"train_y shape: \", train_y.size())\n",
    "print(\"test_x shape: \", test_x.size())\n",
    "print(\"test_y shape: \", test_y.size())"
   ]
  },
  {
   "cell_type": "code",
   "execution_count": 4,
   "metadata": {},
   "outputs": [],
   "source": [
    "train_x = train_x.numpy().astype('float32')\n",
    "train_y = train_y.numpy().astype('float32')\n",
    "test_x = test_x.numpy().astype('float32')\n",
    "test_y = test_y.numpy().astype('float32')"
   ]
  },
  {
   "cell_type": "code",
   "execution_count": 5,
   "metadata": {},
   "outputs": [
    {
     "name": "stdout",
     "output_type": "stream",
     "text": [
      "train_x shape:  (39209, 50, 50, 3)\n",
      "train_y shape:  (39209,)\n",
      "test_x shape:  (12630, 50, 50, 3)\n",
      "test_y shape:  (12630,)\n"
     ]
    }
   ],
   "source": [
    "print(\"train_x shape: \", train_x.shape)\n",
    "print(\"train_y shape: \", train_y.shape)\n",
    "print(\"test_x shape: \", test_x.shape)\n",
    "print(\"test_y shape: \", test_y.shape)"
   ]
  },
  {
   "cell_type": "code",
   "execution_count": 6,
   "metadata": {},
   "outputs": [],
   "source": [
    "idx = np.random.permutation(train_x.shape[0])\n",
    "train_x_shuffle, train_y_shuffle = train_x[idx], train_y[idx]\n",
    "idx = np.random.permutation(test_x.shape[0])\n",
    "test_x_shuffle, test_y_shuffle = test_x[idx], test_y[idx]"
   ]
  },
  {
   "cell_type": "code",
   "execution_count": 7,
   "metadata": {},
   "outputs": [],
   "source": [
    "train_x_shuffle = np.swapaxes(train_x_shuffle,3,1)\n",
    "test_x_shuffle = np.swapaxes(test_x_shuffle,3,1)\n",
    "train_x_shuffle = np.swapaxes(train_x_shuffle,2,3)\n",
    "test_x_shuffle = np.swapaxes(test_x_shuffle,2,3)"
   ]
  },
  {
   "cell_type": "code",
   "execution_count": 8,
   "metadata": {},
   "outputs": [],
   "source": [
    "val_size = int(train_x.shape[0] * 0.2)\n",
    "val_x = train_x_shuffle[0:val_size]\n",
    "val_y = train_y_shuffle[0:val_size]\n",
    "train_x_shuffle = train_x_shuffle[val_size:]\n",
    "train_y_shuffle = train_y_shuffle[val_size:]"
   ]
  },
  {
   "cell_type": "code",
   "execution_count": 9,
   "metadata": {},
   "outputs": [],
   "source": [
    "train_x = torch.from_numpy(train_x_shuffle)\n",
    "train_y = torch.from_numpy(train_y_shuffle)\n",
    "val_x = torch.from_numpy(val_x)\n",
    "val_y = torch.from_numpy(val_y)\n",
    "test_x = torch.from_numpy(test_x_shuffle)\n",
    "test_y = torch.from_numpy(test_y_shuffle)"
   ]
  },
  {
   "cell_type": "code",
   "execution_count": 10,
   "metadata": {},
   "outputs": [],
   "source": [
    "train_x = train_x.numpy().astype('float32')\n",
    "train_y = train_y.numpy().astype('float32')\n",
    "val_x = val_x.numpy().astype('float32')\n",
    "val_y = val_y.numpy().astype('float32')\n",
    "test_x = test_x.numpy().astype('float32')\n",
    "test_y = test_y.numpy().astype('float32')"
   ]
  },
  {
   "cell_type": "code",
   "execution_count": 11,
   "metadata": {},
   "outputs": [
    {
     "name": "stdout",
     "output_type": "stream",
     "text": [
      "train_x shape:  (31368, 3, 50, 50)\n",
      "train_y shape:  (31368,)\n",
      "val_x shape:  (7841, 3, 50, 50)\n",
      "val_y shape:  (7841,)\n",
      "test_x shape:  (12630, 3, 50, 50)\n",
      "test_y shape:  (12630,)\n"
     ]
    }
   ],
   "source": [
    "print(\"train_x shape: \", train_x.shape)\n",
    "print(\"train_y shape: \", train_y.shape)\n",
    "print(\"val_x shape: \", val_x.shape)\n",
    "print(\"val_y shape: \", val_y.shape)\n",
    "print(\"test_x shape: \", test_x.shape)\n",
    "print(\"test_y shape: \", test_y.shape)"
   ]
  },
  {
   "cell_type": "code",
   "execution_count": 12,
   "metadata": {},
   "outputs": [],
   "source": [
    "train_x_rotate = np.zeros((train_x.shape[0] * 4, train_x.shape[1], train_x.shape[2], train_x.shape[3]))\n",
    "train_y_rotate = np.zeros((train_y.shape[0] * 4, 2))\n",
    "val_x_rotate = np.zeros((val_x.shape[0] * 4, val_x.shape[1], val_x.shape[2], val_x.shape[3]))\n",
    "val_y_rotate = np.zeros((val_y.shape[0] * 4, 2))\n",
    "test_x_rotate = np.zeros((test_x.shape[0] * 4, test_x.shape[1], test_x.shape[2], test_x.shape[3]))\n",
    "test_y_rotate = np.zeros((test_y.shape[0] * 4, 2))"
   ]
  },
  {
   "cell_type": "code",
   "execution_count": 13,
   "metadata": {},
   "outputs": [
    {
     "name": "stdout",
     "output_type": "stream",
     "text": [
      "train_x_rotate shape:  (125472, 3, 50, 50)\n",
      "train_y_rotate shape:  (125472, 2)\n",
      "val_x_rotate shape:  (31364, 3, 50, 50)\n",
      "val_y_rotate shape:  (31364, 2)\n",
      "test_x_rotate shape:  (50520, 3, 50, 50)\n",
      "test_y_rotate shape:  (50520, 2)\n"
     ]
    }
   ],
   "source": [
    "print(\"train_x_rotate shape: \", train_x_rotate.shape)\n",
    "print(\"train_y_rotate shape: \", train_y_rotate.shape)\n",
    "print(\"val_x_rotate shape: \", val_x_rotate.shape)\n",
    "print(\"val_y_rotate shape: \", val_y_rotate.shape)\n",
    "print(\"test_x_rotate shape: \", test_x_rotate.shape)\n",
    "print(\"test_y_rotate shape: \", test_y_rotate.shape)"
   ]
  },
  {
   "cell_type": "code",
   "execution_count": 14,
   "metadata": {},
   "outputs": [],
   "source": [
    "for i in range(train_x.shape[0]):\n",
    "    train_x_rotate[i * 4 + 0] = train_x[i]\n",
    "    train_y_rotate[i * 4 + 0][0] = train_y[i]\n",
    "    train_y_rotate[i * 4 + 0][1] = 0\n",
    "    \n",
    "    train_x_rotate[i * 4 + 1][0] = np.rot90(train_x[i][0])\n",
    "    train_x_rotate[i * 4 + 1][1] = np.rot90(train_x[i][1])\n",
    "    train_x_rotate[i * 4 + 1][2] = np.rot90(train_x[i][2])\n",
    "    train_y_rotate[i * 4 + 1][0] = train_y[i]\n",
    "    train_y_rotate[i * 4 + 1][1] = 1\n",
    "    \n",
    "    train_x_rotate[i * 4 + 2][0] = np.rot90(np.rot90(train_x[i][0]))\n",
    "    train_x_rotate[i * 4 + 2][1] = np.rot90(np.rot90(train_x[i][1]))\n",
    "    train_x_rotate[i * 4 + 2][2] = np.rot90(np.rot90(train_x[i][2]))\n",
    "    train_y_rotate[i * 4 + 2][0] = train_y[i]\n",
    "    train_y_rotate[i * 4 + 2][1] = 2\n",
    "    \n",
    "    train_x_rotate[i * 4 + 3][0] = np.rot90(np.rot90(np.rot90(train_x[i][0])))\n",
    "    train_x_rotate[i * 4 + 3][1] = np.rot90(np.rot90(np.rot90(train_x[i][1])))\n",
    "    train_x_rotate[i * 4 + 3][2] = np.rot90(np.rot90(np.rot90(train_x[i][2])))\n",
    "    train_y_rotate[i * 4 + 3][0] = train_y[i]\n",
    "    train_y_rotate[i * 4 + 3][1] = 3\n",
    "    \n",
    "for i in range(val_x.shape[0]):\n",
    "    val_x_rotate[i * 4 + 0] = val_x[i]\n",
    "    val_y_rotate[i * 4 + 0][0] = val_y[i]\n",
    "    val_y_rotate[i * 4 + 0][1] = 0\n",
    "    \n",
    "    val_x_rotate[i * 4 + 1][0] = np.rot90(val_x[i][0])\n",
    "    val_x_rotate[i * 4 + 1][1] = np.rot90(val_x[i][1])\n",
    "    val_x_rotate[i * 4 + 1][2] = np.rot90(val_x[i][2])\n",
    "    val_y_rotate[i * 4 + 1][0] = val_y[i]\n",
    "    val_y_rotate[i * 4 + 1][1] = 1\n",
    "    \n",
    "    val_x_rotate[i * 4 + 2][0] = np.rot90(np.rot90(val_x[i][0]))\n",
    "    val_x_rotate[i * 4 + 2][1] = np.rot90(np.rot90(val_x[i][1]))\n",
    "    val_x_rotate[i * 4 + 2][2] = np.rot90(np.rot90(val_x[i][2]))\n",
    "    val_y_rotate[i * 4 + 2][0] = val_y[i]\n",
    "    val_y_rotate[i * 4 + 2][1] = 2\n",
    "    \n",
    "    val_x_rotate[i * 4 + 3][0] = np.rot90(np.rot90(np.rot90(val_x[i][0])))\n",
    "    val_x_rotate[i * 4 + 3][1] = np.rot90(np.rot90(np.rot90(val_x[i][1])))\n",
    "    val_x_rotate[i * 4 + 3][2] = np.rot90(np.rot90(np.rot90(val_x[i][2])))\n",
    "    val_y_rotate[i * 4 + 3][0] = val_y[i]\n",
    "    val_y_rotate[i * 4 + 3][1] = 3\n",
    "    \n",
    "for i in range(test_x.shape[0]):\n",
    "    test_x_rotate[i * 4 + 0] = test_x[i]\n",
    "    test_y_rotate[i * 4 + 0][0] = test_y[i]\n",
    "    test_y_rotate[i * 4 + 0][1] = 0\n",
    "    \n",
    "    test_x_rotate[i * 4 + 1][0] = np.rot90(test_x[i][0])\n",
    "    test_x_rotate[i * 4 + 1][1] = np.rot90(test_x[i][1])\n",
    "    test_x_rotate[i * 4 + 1][2] = np.rot90(test_x[i][2])\n",
    "    test_y_rotate[i * 4 + 1][0] = test_y[i]\n",
    "    test_y_rotate[i * 4 + 1][1] = 1\n",
    "    \n",
    "    test_x_rotate[i * 4 + 2][0] = np.rot90(np.rot90(test_x[i][0]))\n",
    "    test_x_rotate[i * 4 + 2][1] = np.rot90(np.rot90(test_x[i][1]))\n",
    "    test_x_rotate[i * 4 + 2][2] = np.rot90(np.rot90(test_x[i][2]))\n",
    "    test_y_rotate[i * 4 + 2][0] = test_y[i]\n",
    "    test_y_rotate[i * 4 + 2][1] = 2\n",
    "    \n",
    "    test_x_rotate[i * 4 + 3][0] = np.rot90(np.rot90(np.rot90(test_x[i][0])))\n",
    "    test_x_rotate[i * 4 + 3][1] = np.rot90(np.rot90(np.rot90(test_x[i][1])))\n",
    "    test_x_rotate[i * 4 + 3][2] = np.rot90(np.rot90(np.rot90(test_x[i][2])))\n",
    "    test_y_rotate[i * 4 + 3][0] = test_y[i]\n",
    "    test_y_rotate[i * 4 + 3][1] = 3"
   ]
  },
  {
   "cell_type": "code",
   "execution_count": 16,
   "metadata": {},
   "outputs": [
    {
     "name": "stdout",
     "output_type": "stream",
     "text": [
      "test_x shape:  (12630, 3, 50, 50)\n",
      "test_x_rotate shape:  (50520, 3, 50, 50)\n"
     ]
    }
   ],
   "source": [
    "print(\"test_x shape: \", test_x.shape)\n",
    "print(\"test_x_rotate shape: \", test_x_rotate.shape)"
   ]
  },
  {
   "cell_type": "code",
   "execution_count": 17,
   "metadata": {},
   "outputs": [
    {
     "name": "stdout",
     "output_type": "stream",
     "text": [
      "test_x shape:  (12630, 50, 50, 3)\n",
      "test_x_rotate shape:  (50520, 50, 50, 3)\n"
     ]
    }
   ],
   "source": [
    "test_x = np.swapaxes(test_x,3,1)\n",
    "test_x_rotate = np.swapaxes(test_x_rotate,3,1)\n",
    "test_x = np.swapaxes(test_x,2,1)\n",
    "test_x_rotate = np.swapaxes(test_x_rotate,2,1)\n",
    "print(\"test_x shape: \", test_x.shape)\n",
    "print(\"test_x_rotate shape: \", test_x_rotate.shape)"
   ]
  },
  {
   "cell_type": "code",
   "execution_count": 52,
   "metadata": {},
   "outputs": [
    {
     "name": "stdout",
     "output_type": "stream",
     "text": [
      "torch.Size([12630])\n",
      "torch.Size([50520, 2])\n"
     ]
    }
   ],
   "source": [
    "test_y = torch.from_numpy(test_y)\n",
    "test_y_rotate = torch.from_numpy(test_y_rotate)\n",
    "print(test_y.size())\n",
    "print(test_y_rotate.size())"
   ]
  },
  {
   "cell_type": "markdown",
   "metadata": {},
   "source": [
    "# prepare gauss noise"
   ]
  },
  {
   "cell_type": "code",
   "execution_count": 24,
   "metadata": {},
   "outputs": [],
   "source": [
    "def gauss_noisy(image):\n",
    "  row,col,ch= image.shape\n",
    "  mean = 0\n",
    "  var = 0.1\n",
    "  sigma = var**0.5\n",
    "  gauss = np.random.normal(mean,sigma,(row,col,ch))\n",
    "  gauss = gauss.reshape(row,col,ch)\n",
    "  noisy = image + gauss\n",
    "  return noisy"
   ]
  },
  {
   "cell_type": "code",
   "execution_count": 30,
   "metadata": {},
   "outputs": [
    {
     "name": "stdout",
     "output_type": "stream",
     "text": [
      "test_x_gauss_noise shape:  (12630, 50, 50, 3)\n",
      "test_x_rotate_gauss_noise shape:  (50520, 50, 50, 3)\n"
     ]
    }
   ],
   "source": [
    "test_x_gauss_noise = np.zeros(test_x.shape)\n",
    "test_x_rotate_gauss_noise = np.zeros(test_x_rotate.shape)\n",
    "print(\"test_x_gauss_noise shape: \", test_x_gauss_noise.shape)\n",
    "print(\"test_x_rotate_gauss_noise shape: \", test_x_rotate_gauss_noise.shape)"
   ]
  },
  {
   "cell_type": "code",
   "execution_count": 31,
   "metadata": {},
   "outputs": [],
   "source": [
    "for i in range(test_x.shape[0]):\n",
    "    test_x_gauss_noise[i] = gauss_noisy(test_x[i])\n",
    "    \n",
    "for i in range(test_x_rotate.shape[0]):\n",
    "    test_x_rotate_gauss_noise[i] = gauss_noisy(test_x_rotate[i])"
   ]
  },
  {
   "cell_type": "code",
   "execution_count": 34,
   "metadata": {},
   "outputs": [
    {
     "name": "stdout",
     "output_type": "stream",
     "text": [
      "test_x_gauss_noise shape:  (12630, 3, 50, 50)\n",
      "test_x_rotate_gauss_noise shape:  (50520, 3, 50, 50)\n"
     ]
    }
   ],
   "source": [
    "test_x_gauss_noise = np.swapaxes(test_x_gauss_noise,3,1)\n",
    "test_x_rotate_gauss_noise = np.swapaxes(test_x_rotate_gauss_noise,3,1)\n",
    "test_x_gauss_noise = np.swapaxes(test_x_gauss_noise,2,3)\n",
    "test_x_rotate_gauss_noise = np.swapaxes(test_x_rotate_gauss_noise,2,3)\n",
    "print(\"test_x_gauss_noise shape: \", test_x_gauss_noise.shape)\n",
    "print(\"test_x_rotate_gauss_noise shape: \", test_x_rotate_gauss_noise.shape)"
   ]
  },
  {
   "cell_type": "code",
   "execution_count": 35,
   "metadata": {},
   "outputs": [
    {
     "name": "stdout",
     "output_type": "stream",
     "text": [
      "Train mean: [87.44989, 79.546646, 82.43356]\n",
      "Train std: [70.71926, 67.62619, 69.54247]\n"
     ]
    }
   ],
   "source": [
    "# Compute mean and std.\n",
    "train_mean = []\n",
    "train_std = []\n",
    "for i in range(3):\n",
    "    s = np.std(train_x[:,i,:,:])\n",
    "    m = np.mean(train_x[:,i,:,:])\n",
    "    \n",
    "    test_x_gauss_noise[:,i,:,:] = (test_x_gauss_noise[:,i,:,:] - m) / s\n",
    "    test_x_rotate_gauss_noise[:,i,:,:] = (test_x_rotate_gauss_noise[:,i,:,:] - m) / s\n",
    "    \n",
    "    train_std.append(np.std(train_x[:,i,:,:]))\n",
    "    train_mean.append(np.mean(train_x[:,i,:,:]))\n",
    "print(f\"Train mean: {train_mean}\")\n",
    "print(f\"Train std: {train_std}\")"
   ]
  },
  {
   "cell_type": "code",
   "execution_count": 36,
   "metadata": {},
   "outputs": [
    {
     "name": "stdout",
     "output_type": "stream",
     "text": [
      "torch.Size([12630, 3, 50, 50])\n",
      "torch.Size([50520, 3, 50, 50])\n"
     ]
    }
   ],
   "source": [
    "test_x_gauss_noise = torch.from_numpy(test_x_gauss_noise)\n",
    "test_x_rotate_gauss_noise = torch.from_numpy(test_x_rotate_gauss_noise)\n",
    "print(test_x_gauss_noise.size())\n",
    "print(test_x_rotate_gauss_noise.size())"
   ]
  },
  {
   "cell_type": "code",
   "execution_count": 37,
   "metadata": {},
   "outputs": [],
   "source": [
    "torch.save(test_x_gauss_noise, 'test_x_gauss_noise.pt')\n",
    "torch.save(test_y, 'test_y_gauss_noise.pt')\n",
    "torch.save(test_x_rotate_gauss_noise, 'test_x_rotate_gauss_noise.pt')\n",
    "torch.save(test_y_rotate, 'test_y_rotate_gauss_noise.pt')"
   ]
  },
  {
   "cell_type": "markdown",
   "metadata": {},
   "source": [
    "# prepare defocus blur"
   ]
  },
  {
   "cell_type": "code",
   "execution_count": 41,
   "metadata": {},
   "outputs": [],
   "source": [
    "def disk(radius, alias_blur=0.1, dtype=np.float32):\n",
    "    if radius <= 8:\n",
    "        L = np.arange(-8, 8 + 1)\n",
    "        ksize = (3, 3)\n",
    "    else:\n",
    "        L = np.arange(-radius, radius + 1)\n",
    "        ksize = (5, 5)\n",
    "    X, Y = np.meshgrid(L, L)\n",
    "    aliased_disk = np.array((X ** 2 + Y ** 2) <= radius ** 2, dtype=dtype)\n",
    "    aliased_disk /= np.sum(aliased_disk)\n",
    "\n",
    "    # supersample disk to antialias\n",
    "    return cv2.GaussianBlur(aliased_disk, ksize=ksize, sigmaX=alias_blur)\n",
    "\n",
    "def defocus_blur(x, severity=1):\n",
    "    c = [(0.3, 0.4), (0.4, 0.5), (0.5, 0.6), (1, 0.2), (1.5, 0.1)][severity - 1]\n",
    "\n",
    "    x = np.array(x) / 255.\n",
    "    kernel = disk(radius=c[0], alias_blur=c[1])\n",
    "\n",
    "    channels = []\n",
    "    for d in range(3):\n",
    "        channels.append(cv2.filter2D(x[:, :, d], -1, kernel))\n",
    "    channels = np.array(channels).transpose((1, 2, 0))  # 3x32x32 -> 32x32x3\n",
    "\n",
    "    return np.clip(channels, 0, 1) * 255"
   ]
  },
  {
   "cell_type": "code",
   "execution_count": 39,
   "metadata": {},
   "outputs": [
    {
     "name": "stdout",
     "output_type": "stream",
     "text": [
      "test_x_defocus_blur shape:  (12630, 50, 50, 3)\n",
      "test_x_rotate_defocus_blur shape:  (50520, 50, 50, 3)\n"
     ]
    }
   ],
   "source": [
    "test_x_defocus_blur = np.zeros(test_x.shape)\n",
    "test_x_rotate_defocus_blur = np.zeros(test_x_rotate.shape)\n",
    "print(\"test_x_defocus_blur shape: \", test_x_defocus_blur.shape)\n",
    "print(\"test_x_rotate_defocus_blur shape: \", test_x_rotate_defocus_blur.shape)"
   ]
  },
  {
   "cell_type": "code",
   "execution_count": 43,
   "metadata": {},
   "outputs": [],
   "source": [
    "for i in range(test_x.shape[0]):\n",
    "    test_x_defocus_blur[i] = defocus_blur(test_x[i])\n",
    "    \n",
    "for i in range(test_x_rotate.shape[0]):\n",
    "    test_x_rotate_defocus_blur[i] = defocus_blur(test_x_rotate[i])"
   ]
  },
  {
   "cell_type": "code",
   "execution_count": 53,
   "metadata": {},
   "outputs": [
    {
     "name": "stdout",
     "output_type": "stream",
     "text": [
      "test_x_defocus_blur shape:  (12630, 3, 50, 50)\n",
      "test_x_rotate_defocus_blur shape:  (50520, 3, 50, 50)\n"
     ]
    }
   ],
   "source": [
    "test_x_defocus_blur = np.swapaxes(test_x_defocus_blur,3,1)\n",
    "test_x_rotate_defocus_blur = np.swapaxes(test_x_rotate_defocus_blur,3,1)\n",
    "test_x_defocus_blur = np.swapaxes(test_x_defocus_blur,2,3)\n",
    "test_x_rotate_defocus_blur = np.swapaxes(test_x_rotate_defocus_blur,2,3)\n",
    "print(\"test_x_defocus_blur shape: \", test_x_defocus_blur.shape)\n",
    "print(\"test_x_rotate_defocus_blur shape: \", test_x_rotate_defocus_blur.shape)"
   ]
  },
  {
   "cell_type": "code",
   "execution_count": 54,
   "metadata": {},
   "outputs": [
    {
     "name": "stdout",
     "output_type": "stream",
     "text": [
      "Train mean: [87.44989, 79.546646, 82.43356]\n",
      "Train std: [70.71926, 67.62619, 69.54247]\n"
     ]
    }
   ],
   "source": [
    "# Compute mean and std.\n",
    "train_mean = []\n",
    "train_std = []\n",
    "for i in range(3):\n",
    "    s = np.std(train_x[:,i,:,:])\n",
    "    m = np.mean(train_x[:,i,:,:])\n",
    "    \n",
    "    test_x_defocus_blur[:,i,:,:] = (test_x_defocus_blur[:,i,:,:] - m) / s\n",
    "    test_x_rotate_defocus_blur[:,i,:,:] = (test_x_rotate_defocus_blur[:,i,:,:] - m) / s\n",
    "    \n",
    "    train_std.append(np.std(train_x[:,i,:,:]))\n",
    "    train_mean.append(np.mean(train_x[:,i,:,:]))\n",
    "print(f\"Train mean: {train_mean}\")\n",
    "print(f\"Train std: {train_std}\")"
   ]
  },
  {
   "cell_type": "code",
   "execution_count": 55,
   "metadata": {},
   "outputs": [
    {
     "name": "stdout",
     "output_type": "stream",
     "text": [
      "torch.Size([12630, 3, 50, 50])\n",
      "torch.Size([50520, 3, 50, 50])\n"
     ]
    }
   ],
   "source": [
    "test_x_defocus_blur = torch.from_numpy(test_x_defocus_blur)\n",
    "test_x_rotate_defocus_blur = torch.from_numpy(test_x_rotate_defocus_blur)\n",
    "print(test_x_defocus_blur.size())\n",
    "print(test_x_rotate_defocus_blur.size())"
   ]
  },
  {
   "cell_type": "code",
   "execution_count": 56,
   "metadata": {},
   "outputs": [],
   "source": [
    "torch.save(test_x_defocus_blur, 'test_x_defocus_blur.pt')\n",
    "torch.save(test_y, 'test_y_defocus_blur.pt')\n",
    "torch.save(test_x_rotate_defocus_blur, 'test_x_rotate_defocus_blur.pt')\n",
    "torch.save(test_y_rotate, 'test_y_rotate_defocus_blur.pt')"
   ]
  },
  {
   "cell_type": "code",
   "execution_count": null,
   "metadata": {},
   "outputs": [],
   "source": []
  }
 ],
 "metadata": {
  "kernelspec": {
   "display_name": "Python 3",
   "language": "python",
   "name": "python3"
  },
  "language_info": {
   "codemirror_mode": {
    "name": "ipython",
    "version": 3
   },
   "file_extension": ".py",
   "mimetype": "text/x-python",
   "name": "python",
   "nbconvert_exporter": "python",
   "pygments_lexer": "ipython3",
   "version": "3.8.6"
  }
 },
 "nbformat": 4,
 "nbformat_minor": 4
}
