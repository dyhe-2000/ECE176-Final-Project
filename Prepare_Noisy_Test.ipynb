{
 "cells": [
  {
   "cell_type": "markdown",
   "metadata": {},
   "source": [
    "# citation for noise methods: https://github.com/hendrycks/robustness/blob/master/ImageNet-C/create_c/make_cifar_c.py\n",
    "\n",
    "https://stackoverflow.com/questions/22937589/how-to-add-noise-gaussian-salt-and-pepper-etc-to-image-in-python-with-opencv\n",
    "\n",
    "https://www.geeksforgeeks.org/opencv-motion-blur-in-python/"
   ]
  },
  {
   "cell_type": "code",
   "execution_count": 1,
   "metadata": {},
   "outputs": [],
   "source": [
    "import cv2 \n",
    "import numpy as np\n",
    "import torch\n",
    "import matplotlib.pyplot as plt"
   ]
  },
  {
   "cell_type": "code",
   "execution_count": 2,
   "metadata": {},
   "outputs": [],
   "source": [
    "train_x = torch.load('train_x.pt', map_location=torch.device('cpu'))\n",
    "train_y = torch.load('train_y.pt', map_location=torch.device('cpu'))\n",
    "test_x = torch.load('test_x.pt', map_location=torch.device('cpu'))\n",
    "test_y = torch.load('test_y.pt', map_location=torch.device('cpu'))"
   ]
  },
  {
   "cell_type": "code",
   "execution_count": 3,
   "metadata": {},
   "outputs": [
    {
     "name": "stdout",
     "output_type": "stream",
     "text": [
      "train_x shape:  torch.Size([39209, 50, 50, 3])\n",
      "train_y shape:  torch.Size([39209])\n",
      "test_x shape:  torch.Size([12630, 50, 50, 3])\n",
      "test_y shape:  torch.Size([12630])\n"
     ]
    }
   ],
   "source": [
    "print(\"train_x shape: \", train_x.size())\n",
    "print(\"train_y shape: \", train_y.size())\n",
    "print(\"test_x shape: \", test_x.size())\n",
    "print(\"test_y shape: \", test_y.size())"
   ]
  },
  {
   "cell_type": "code",
   "execution_count": 4,
   "metadata": {},
   "outputs": [],
   "source": [
    "train_x = train_x.numpy().astype('float32')\n",
    "train_y = train_y.numpy().astype('float32')\n",
    "test_x = test_x.numpy().astype('float32')\n",
    "test_y = test_y.numpy().astype('float32')"
   ]
  },
  {
   "cell_type": "code",
   "execution_count": 5,
   "metadata": {},
   "outputs": [
    {
     "name": "stdout",
     "output_type": "stream",
     "text": [
      "train_x shape:  (39209, 50, 50, 3)\n",
      "train_y shape:  (39209,)\n",
      "test_x shape:  (12630, 50, 50, 3)\n",
      "test_y shape:  (12630,)\n"
     ]
    }
   ],
   "source": [
    "print(\"train_x shape: \", train_x.shape)\n",
    "print(\"train_y shape: \", train_y.shape)\n",
    "print(\"test_x shape: \", test_x.shape)\n",
    "print(\"test_y shape: \", test_y.shape)"
   ]
  },
  {
   "cell_type": "code",
   "execution_count": 6,
   "metadata": {},
   "outputs": [],
   "source": [
    "idx = np.random.permutation(train_x.shape[0])\n",
    "train_x_shuffle, train_y_shuffle = train_x[idx], train_y[idx]\n",
    "idx = np.random.permutation(test_x.shape[0])\n",
    "test_x_shuffle, test_y_shuffle = test_x[idx], test_y[idx]"
   ]
  },
  {
   "cell_type": "code",
   "execution_count": 7,
   "metadata": {},
   "outputs": [],
   "source": [
    "train_x_shuffle = np.swapaxes(train_x_shuffle,3,1)\n",
    "test_x_shuffle = np.swapaxes(test_x_shuffle,3,1)\n",
    "train_x_shuffle = np.swapaxes(train_x_shuffle,2,3)\n",
    "test_x_shuffle = np.swapaxes(test_x_shuffle,2,3)"
   ]
  },
  {
   "cell_type": "code",
   "execution_count": 8,
   "metadata": {},
   "outputs": [],
   "source": [
    "val_size = int(train_x.shape[0] * 0.2)\n",
    "val_x = train_x_shuffle[0:val_size]\n",
    "val_y = train_y_shuffle[0:val_size]\n",
    "train_x_shuffle = train_x_shuffle[val_size:]\n",
    "train_y_shuffle = train_y_shuffle[val_size:]"
   ]
  },
  {
   "cell_type": "code",
   "execution_count": 9,
   "metadata": {},
   "outputs": [],
   "source": [
    "train_x = torch.from_numpy(train_x_shuffle)\n",
    "train_y = torch.from_numpy(train_y_shuffle)\n",
    "val_x = torch.from_numpy(val_x)\n",
    "val_y = torch.from_numpy(val_y)\n",
    "test_x = torch.from_numpy(test_x_shuffle)\n",
    "test_y = torch.from_numpy(test_y_shuffle)"
   ]
  },
  {
   "cell_type": "code",
   "execution_count": 10,
   "metadata": {},
   "outputs": [],
   "source": [
    "train_x = train_x.numpy().astype('float32')\n",
    "train_y = train_y.numpy().astype('float32')\n",
    "val_x = val_x.numpy().astype('float32')\n",
    "val_y = val_y.numpy().astype('float32')\n",
    "test_x = test_x.numpy().astype('float32')\n",
    "test_y = test_y.numpy().astype('float32')"
   ]
  },
  {
   "cell_type": "code",
   "execution_count": 11,
   "metadata": {},
   "outputs": [
    {
     "name": "stdout",
     "output_type": "stream",
     "text": [
      "train_x shape:  (31368, 3, 50, 50)\n",
      "train_y shape:  (31368,)\n",
      "val_x shape:  (7841, 3, 50, 50)\n",
      "val_y shape:  (7841,)\n",
      "test_x shape:  (12630, 3, 50, 50)\n",
      "test_y shape:  (12630,)\n"
     ]
    }
   ],
   "source": [
    "print(\"train_x shape: \", train_x.shape)\n",
    "print(\"train_y shape: \", train_y.shape)\n",
    "print(\"val_x shape: \", val_x.shape)\n",
    "print(\"val_y shape: \", val_y.shape)\n",
    "print(\"test_x shape: \", test_x.shape)\n",
    "print(\"test_y shape: \", test_y.shape)"
   ]
  },
  {
   "cell_type": "code",
   "execution_count": 12,
   "metadata": {},
   "outputs": [],
   "source": [
    "train_x_rotate = np.zeros((train_x.shape[0] * 4, train_x.shape[1], train_x.shape[2], train_x.shape[3]))\n",
    "train_y_rotate = np.zeros((train_y.shape[0] * 4, 2))\n",
    "val_x_rotate = np.zeros((val_x.shape[0] * 4, val_x.shape[1], val_x.shape[2], val_x.shape[3]))\n",
    "val_y_rotate = np.zeros((val_y.shape[0] * 4, 2))\n",
    "test_x_rotate = np.zeros((test_x.shape[0] * 4, test_x.shape[1], test_x.shape[2], test_x.shape[3]))\n",
    "test_y_rotate = np.zeros((test_y.shape[0] * 4, 2))"
   ]
  },
  {
   "cell_type": "code",
   "execution_count": 13,
   "metadata": {},
   "outputs": [
    {
     "name": "stdout",
     "output_type": "stream",
     "text": [
      "train_x_rotate shape:  (125472, 3, 50, 50)\n",
      "train_y_rotate shape:  (125472, 2)\n",
      "val_x_rotate shape:  (31364, 3, 50, 50)\n",
      "val_y_rotate shape:  (31364, 2)\n",
      "test_x_rotate shape:  (50520, 3, 50, 50)\n",
      "test_y_rotate shape:  (50520, 2)\n"
     ]
    }
   ],
   "source": [
    "print(\"train_x_rotate shape: \", train_x_rotate.shape)\n",
    "print(\"train_y_rotate shape: \", train_y_rotate.shape)\n",
    "print(\"val_x_rotate shape: \", val_x_rotate.shape)\n",
    "print(\"val_y_rotate shape: \", val_y_rotate.shape)\n",
    "print(\"test_x_rotate shape: \", test_x_rotate.shape)\n",
    "print(\"test_y_rotate shape: \", test_y_rotate.shape)"
   ]
  },
  {
   "cell_type": "code",
   "execution_count": 14,
   "metadata": {},
   "outputs": [],
   "source": [
    "for i in range(train_x.shape[0]):\n",
    "    train_x_rotate[i * 4 + 0] = train_x[i]\n",
    "    train_y_rotate[i * 4 + 0][0] = train_y[i]\n",
    "    train_y_rotate[i * 4 + 0][1] = 0\n",
    "    \n",
    "    train_x_rotate[i * 4 + 1][0] = np.rot90(train_x[i][0])\n",
    "    train_x_rotate[i * 4 + 1][1] = np.rot90(train_x[i][1])\n",
    "    train_x_rotate[i * 4 + 1][2] = np.rot90(train_x[i][2])\n",
    "    train_y_rotate[i * 4 + 1][0] = train_y[i]\n",
    "    train_y_rotate[i * 4 + 1][1] = 1\n",
    "    \n",
    "    train_x_rotate[i * 4 + 2][0] = np.rot90(np.rot90(train_x[i][0]))\n",
    "    train_x_rotate[i * 4 + 2][1] = np.rot90(np.rot90(train_x[i][1]))\n",
    "    train_x_rotate[i * 4 + 2][2] = np.rot90(np.rot90(train_x[i][2]))\n",
    "    train_y_rotate[i * 4 + 2][0] = train_y[i]\n",
    "    train_y_rotate[i * 4 + 2][1] = 2\n",
    "    \n",
    "    train_x_rotate[i * 4 + 3][0] = np.rot90(np.rot90(np.rot90(train_x[i][0])))\n",
    "    train_x_rotate[i * 4 + 3][1] = np.rot90(np.rot90(np.rot90(train_x[i][1])))\n",
    "    train_x_rotate[i * 4 + 3][2] = np.rot90(np.rot90(np.rot90(train_x[i][2])))\n",
    "    train_y_rotate[i * 4 + 3][0] = train_y[i]\n",
    "    train_y_rotate[i * 4 + 3][1] = 3\n",
    "    \n",
    "for i in range(val_x.shape[0]):\n",
    "    val_x_rotate[i * 4 + 0] = val_x[i]\n",
    "    val_y_rotate[i * 4 + 0][0] = val_y[i]\n",
    "    val_y_rotate[i * 4 + 0][1] = 0\n",
    "    \n",
    "    val_x_rotate[i * 4 + 1][0] = np.rot90(val_x[i][0])\n",
    "    val_x_rotate[i * 4 + 1][1] = np.rot90(val_x[i][1])\n",
    "    val_x_rotate[i * 4 + 1][2] = np.rot90(val_x[i][2])\n",
    "    val_y_rotate[i * 4 + 1][0] = val_y[i]\n",
    "    val_y_rotate[i * 4 + 1][1] = 1\n",
    "    \n",
    "    val_x_rotate[i * 4 + 2][0] = np.rot90(np.rot90(val_x[i][0]))\n",
    "    val_x_rotate[i * 4 + 2][1] = np.rot90(np.rot90(val_x[i][1]))\n",
    "    val_x_rotate[i * 4 + 2][2] = np.rot90(np.rot90(val_x[i][2]))\n",
    "    val_y_rotate[i * 4 + 2][0] = val_y[i]\n",
    "    val_y_rotate[i * 4 + 2][1] = 2\n",
    "    \n",
    "    val_x_rotate[i * 4 + 3][0] = np.rot90(np.rot90(np.rot90(val_x[i][0])))\n",
    "    val_x_rotate[i * 4 + 3][1] = np.rot90(np.rot90(np.rot90(val_x[i][1])))\n",
    "    val_x_rotate[i * 4 + 3][2] = np.rot90(np.rot90(np.rot90(val_x[i][2])))\n",
    "    val_y_rotate[i * 4 + 3][0] = val_y[i]\n",
    "    val_y_rotate[i * 4 + 3][1] = 3\n",
    "    \n",
    "for i in range(test_x.shape[0]):\n",
    "    test_x_rotate[i * 4 + 0] = test_x[i]\n",
    "    test_y_rotate[i * 4 + 0][0] = test_y[i]\n",
    "    test_y_rotate[i * 4 + 0][1] = 0\n",
    "    \n",
    "    test_x_rotate[i * 4 + 1][0] = np.rot90(test_x[i][0])\n",
    "    test_x_rotate[i * 4 + 1][1] = np.rot90(test_x[i][1])\n",
    "    test_x_rotate[i * 4 + 1][2] = np.rot90(test_x[i][2])\n",
    "    test_y_rotate[i * 4 + 1][0] = test_y[i]\n",
    "    test_y_rotate[i * 4 + 1][1] = 1\n",
    "    \n",
    "    test_x_rotate[i * 4 + 2][0] = np.rot90(np.rot90(test_x[i][0]))\n",
    "    test_x_rotate[i * 4 + 2][1] = np.rot90(np.rot90(test_x[i][1]))\n",
    "    test_x_rotate[i * 4 + 2][2] = np.rot90(np.rot90(test_x[i][2]))\n",
    "    test_y_rotate[i * 4 + 2][0] = test_y[i]\n",
    "    test_y_rotate[i * 4 + 2][1] = 2\n",
    "    \n",
    "    test_x_rotate[i * 4 + 3][0] = np.rot90(np.rot90(np.rot90(test_x[i][0])))\n",
    "    test_x_rotate[i * 4 + 3][1] = np.rot90(np.rot90(np.rot90(test_x[i][1])))\n",
    "    test_x_rotate[i * 4 + 3][2] = np.rot90(np.rot90(np.rot90(test_x[i][2])))\n",
    "    test_y_rotate[i * 4 + 3][0] = test_y[i]\n",
    "    test_y_rotate[i * 4 + 3][1] = 3"
   ]
  },
  {
   "cell_type": "code",
   "execution_count": 15,
   "metadata": {},
   "outputs": [
    {
     "name": "stdout",
     "output_type": "stream",
     "text": [
      "test_x shape:  (12630, 3, 50, 50)\n",
      "test_x_rotate shape:  (50520, 3, 50, 50)\n"
     ]
    }
   ],
   "source": [
    "print(\"test_x shape: \", test_x.shape)\n",
    "print(\"test_x_rotate shape: \", test_x_rotate.shape)"
   ]
  },
  {
   "cell_type": "code",
   "execution_count": 16,
   "metadata": {},
   "outputs": [
    {
     "name": "stdout",
     "output_type": "stream",
     "text": [
      "test_x shape:  (12630, 50, 50, 3)\n",
      "test_x_rotate shape:  (50520, 50, 50, 3)\n"
     ]
    }
   ],
   "source": [
    "test_x = np.swapaxes(test_x,3,1)\n",
    "test_x_rotate = np.swapaxes(test_x_rotate,3,1)\n",
    "test_x = np.swapaxes(test_x,2,1)\n",
    "test_x_rotate = np.swapaxes(test_x_rotate,2,1)\n",
    "print(\"test_x shape: \", test_x.shape)\n",
    "print(\"test_x_rotate shape: \", test_x_rotate.shape)"
   ]
  },
  {
   "cell_type": "code",
   "execution_count": 17,
   "metadata": {},
   "outputs": [
    {
     "name": "stdout",
     "output_type": "stream",
     "text": [
      "torch.Size([12630])\n",
      "torch.Size([50520, 2])\n"
     ]
    }
   ],
   "source": [
    "test_y = torch.from_numpy(test_y)\n",
    "test_y_rotate = torch.from_numpy(test_y_rotate)\n",
    "print(test_y.size())\n",
    "print(test_y_rotate.size())"
   ]
  },
  {
   "cell_type": "markdown",
   "metadata": {},
   "source": [
    "# prepare gauss noise"
   ]
  },
  {
   "cell_type": "code",
   "execution_count": 29,
   "metadata": {},
   "outputs": [],
   "source": [
    "'''\n",
    "def gauss_noisy(image):\n",
    "  row,col,ch= image.shape\n",
    "  mean = 0\n",
    "  var = 40\n",
    "  sigma = var**0.5\n",
    "  gauss = np.random.normal(mean,sigma,(row,col,ch))\n",
    "  gauss = gauss.reshape(row,col,ch)\n",
    "  noisy = image + gauss\n",
    "  return noisy\n",
    "'''\n",
    "def gauss_noisy(x, severity=1):\n",
    "    c = [0.04, 0.06, .08, .09, .10][severity - 1]\n",
    "\n",
    "    x = np.array(x) / 255.\n",
    "    return np.clip(x + np.random.normal(size=x.shape, scale=c), 0, 1) * 255"
   ]
  },
  {
   "cell_type": "code",
   "execution_count": 30,
   "metadata": {},
   "outputs": [
    {
     "name": "stdout",
     "output_type": "stream",
     "text": [
      "test_x_gauss_noise shape:  (12630, 50, 50, 3)\n",
      "test_x_rotate_gauss_noise shape:  (50520, 50, 50, 3)\n"
     ]
    }
   ],
   "source": [
    "test_x_gauss_noise = np.zeros(test_x.shape)\n",
    "test_x_rotate_gauss_noise = np.zeros(test_x_rotate.shape)\n",
    "print(\"test_x_gauss_noise shape: \", test_x_gauss_noise.shape)\n",
    "print(\"test_x_rotate_gauss_noise shape: \", test_x_rotate_gauss_noise.shape)"
   ]
  },
  {
   "cell_type": "code",
   "execution_count": 31,
   "metadata": {},
   "outputs": [],
   "source": [
    "for i in range(test_x.shape[0]):\n",
    "    test_x_gauss_noise[i] = gauss_noisy(test_x[i])\n",
    "    \n",
    "for i in range(test_x_rotate.shape[0]):\n",
    "    test_x_rotate_gauss_noise[i] = gauss_noisy(test_x_rotate[i])"
   ]
  },
  {
   "cell_type": "code",
   "execution_count": 32,
   "metadata": {},
   "outputs": [
    {
     "data": {
      "text/plain": [
       "True"
      ]
     },
     "execution_count": 32,
     "metadata": {},
     "output_type": "execute_result"
    }
   ],
   "source": [
    "cv2.imwrite(\"test_1370.png\", test_x[1370])\n",
    "cv2.imwrite(\"test_1371.png\", test_x[1371])\n",
    "cv2.imwrite(\"test_1372.png\", test_x[1372])\n",
    "cv2.imwrite(\"test_1373.png\", test_x[1373])\n",
    "cv2.imwrite(\"test_1374.png\", test_x[1374])\n",
    "cv2.imwrite(\"test_1375.png\", test_x[1375])\n",
    "cv2.imwrite(\"test_1376.png\", test_x[1376])\n",
    "cv2.imwrite(\"test_1377.png\", test_x[1377])\n",
    "cv2.imwrite(\"test_1378.png\", test_x[1378])\n",
    "cv2.imwrite(\"test_1379.png\", test_x[1379])\n",
    "cv2.imwrite(\"test_1370_gauss_noise.png\", test_x_gauss_noise[1370])\n",
    "cv2.imwrite(\"test_1371_gauss_noise.png\", test_x_gauss_noise[1371])\n",
    "cv2.imwrite(\"test_1372_gauss_noise.png\", test_x_gauss_noise[1372])\n",
    "cv2.imwrite(\"test_1373_gauss_noise.png\", test_x_gauss_noise[1373])\n",
    "cv2.imwrite(\"test_1374_gauss_noise.png\", test_x_gauss_noise[1374])\n",
    "cv2.imwrite(\"test_1375_gauss_noise.png\", test_x_gauss_noise[1375])\n",
    "cv2.imwrite(\"test_1376_gauss_noise.png\", test_x_gauss_noise[1376])\n",
    "cv2.imwrite(\"test_1377_gauss_noise.png\", test_x_gauss_noise[1377])\n",
    "cv2.imwrite(\"test_1378_gauss_noise.png\", test_x_gauss_noise[1378])\n",
    "cv2.imwrite(\"test_1379_gauss_noise.png\", test_x_gauss_noise[1379])"
   ]
  },
  {
   "cell_type": "code",
   "execution_count": 22,
   "metadata": {},
   "outputs": [
    {
     "name": "stdout",
     "output_type": "stream",
     "text": [
      "test_x_gauss_noise shape:  (12630, 3, 50, 50)\n",
      "test_x_rotate_gauss_noise shape:  (50520, 3, 50, 50)\n"
     ]
    }
   ],
   "source": [
    "test_x_gauss_noise = np.swapaxes(test_x_gauss_noise,3,1)\n",
    "test_x_rotate_gauss_noise = np.swapaxes(test_x_rotate_gauss_noise,3,1)\n",
    "test_x_gauss_noise = np.swapaxes(test_x_gauss_noise,2,3)\n",
    "test_x_rotate_gauss_noise = np.swapaxes(test_x_rotate_gauss_noise,2,3)\n",
    "print(\"test_x_gauss_noise shape: \", test_x_gauss_noise.shape)\n",
    "print(\"test_x_rotate_gauss_noise shape: \", test_x_rotate_gauss_noise.shape)"
   ]
  },
  {
   "cell_type": "code",
   "execution_count": 23,
   "metadata": {},
   "outputs": [
    {
     "name": "stdout",
     "output_type": "stream",
     "text": [
      "Train mean: [87.565186, 79.653656, 82.58276]\n",
      "Train std: [70.78099, 67.66874, 69.59343]\n"
     ]
    }
   ],
   "source": [
    "# Compute mean and std.\n",
    "train_mean = []\n",
    "train_std = []\n",
    "for i in range(3):\n",
    "    s = np.std(train_x[:,i,:,:])\n",
    "    m = np.mean(train_x[:,i,:,:])\n",
    "    \n",
    "    test_x_gauss_noise[:,i,:,:] = (test_x_gauss_noise[:,i,:,:] - m) / s\n",
    "    test_x_rotate_gauss_noise[:,i,:,:] = (test_x_rotate_gauss_noise[:,i,:,:] - m) / s\n",
    "    \n",
    "    train_std.append(np.std(train_x[:,i,:,:]))\n",
    "    train_mean.append(np.mean(train_x[:,i,:,:]))\n",
    "print(f\"Train mean: {train_mean}\")\n",
    "print(f\"Train std: {train_std}\")"
   ]
  },
  {
   "cell_type": "code",
   "execution_count": 24,
   "metadata": {},
   "outputs": [
    {
     "name": "stdout",
     "output_type": "stream",
     "text": [
      "torch.Size([12630, 3, 50, 50])\n",
      "torch.Size([50520, 3, 50, 50])\n"
     ]
    }
   ],
   "source": [
    "test_x_gauss_noise = torch.from_numpy(test_x_gauss_noise)\n",
    "test_x_rotate_gauss_noise = torch.from_numpy(test_x_rotate_gauss_noise)\n",
    "print(test_x_gauss_noise.size())\n",
    "print(test_x_rotate_gauss_noise.size())"
   ]
  },
  {
   "cell_type": "code",
   "execution_count": 25,
   "metadata": {},
   "outputs": [],
   "source": [
    "\n",
    "torch.save(test_x_gauss_noise, 'test_x_gauss_noise.pt')\n",
    "torch.save(test_y, 'test_y_gauss_noise.pt')\n",
    "torch.save(test_x_rotate_gauss_noise, 'test_x_rotate_gauss_noise.pt')\n",
    "torch.save(test_y_rotate, 'test_y_rotate_gauss_noise.pt')\n",
    "\n",
    "del test_x_gauss_noise\n",
    "del test_x_rotate_gauss_noise\n",
    "\n"
   ]
  },
  {
   "cell_type": "markdown",
   "metadata": {},
   "source": [
    "# prepare defocus blur"
   ]
  },
  {
   "cell_type": "code",
   "execution_count": 26,
   "metadata": {},
   "outputs": [],
   "source": [
    "def disk(radius, alias_blur=0.1, dtype=np.float32):\n",
    "    if radius <= 8:\n",
    "        L = np.arange(-8, 8 + 1)\n",
    "        ksize = (3, 3)\n",
    "    else:\n",
    "        L = np.arange(-radius, radius + 1)\n",
    "        ksize = (5, 5)\n",
    "    X, Y = np.meshgrid(L, L)\n",
    "    aliased_disk = np.array((X ** 2 + Y ** 2) <= radius ** 2, dtype=dtype)\n",
    "    aliased_disk /= np.sum(aliased_disk)\n",
    "\n",
    "    # supersample disk to antialias\n",
    "    return cv2.GaussianBlur(aliased_disk, ksize=ksize, sigmaX=alias_blur)\n",
    "\n",
    "def defocus_blur(x, severity=5):\n",
    "    c = [(0.3, 0.4), (0.4, 0.5), (0.5, 0.6), (1, 0.2), (1.5, 0.1)][severity - 1]\n",
    "\n",
    "    x = np.array(x) / 255.\n",
    "    kernel = disk(radius=c[0], alias_blur=c[1])\n",
    "\n",
    "    channels = []\n",
    "    for d in range(3):\n",
    "        channels.append(cv2.filter2D(x[:, :, d], -1, kernel))\n",
    "    channels = np.array(channels).transpose((1, 2, 0))  # 3x32x32 -> 32x32x3\n",
    "\n",
    "    return np.clip(channels, 0, 1) * 255"
   ]
  },
  {
   "cell_type": "code",
   "execution_count": 27,
   "metadata": {},
   "outputs": [
    {
     "name": "stdout",
     "output_type": "stream",
     "text": [
      "test_x_defocus_blur shape:  (12630, 50, 50, 3)\n",
      "test_x_rotate_defocus_blur shape:  (50520, 50, 50, 3)\n"
     ]
    }
   ],
   "source": [
    "test_x_defocus_blur = np.zeros(test_x.shape)\n",
    "test_x_rotate_defocus_blur = np.zeros(test_x_rotate.shape)\n",
    "print(\"test_x_defocus_blur shape: \", test_x_defocus_blur.shape)\n",
    "print(\"test_x_rotate_defocus_blur shape: \", test_x_rotate_defocus_blur.shape)"
   ]
  },
  {
   "cell_type": "code",
   "execution_count": 28,
   "metadata": {},
   "outputs": [],
   "source": [
    "for i in range(test_x.shape[0]):\n",
    "    test_x_defocus_blur[i] = defocus_blur(test_x[i])\n",
    "    \n",
    "for i in range(test_x_rotate.shape[0]):\n",
    "    test_x_rotate_defocus_blur[i] = defocus_blur(test_x_rotate[i])"
   ]
  },
  {
   "cell_type": "code",
   "execution_count": 29,
   "metadata": {},
   "outputs": [
    {
     "data": {
      "text/plain": [
       "True"
      ]
     },
     "execution_count": 29,
     "metadata": {},
     "output_type": "execute_result"
    }
   ],
   "source": [
    "cv2.imwrite(\"test_1370_defocus_blur.png\", test_x_defocus_blur[1370])\n",
    "cv2.imwrite(\"test_1371_defocus_blur.png\", test_x_defocus_blur[1371])\n",
    "cv2.imwrite(\"test_1372_defocus_blur.png\", test_x_defocus_blur[1372])\n",
    "cv2.imwrite(\"test_1373_defocus_blur.png\", test_x_defocus_blur[1373])\n",
    "cv2.imwrite(\"test_1374_defocus_blur.png\", test_x_defocus_blur[1374])\n",
    "cv2.imwrite(\"test_1375_defocus_blur.png\", test_x_defocus_blur[1375])\n",
    "cv2.imwrite(\"test_1376_defocus_blur.png\", test_x_defocus_blur[1376])\n",
    "cv2.imwrite(\"test_1377_defocus_blur.png\", test_x_defocus_blur[1377])\n",
    "cv2.imwrite(\"test_1378_defocus_blur.png\", test_x_defocus_blur[1378])\n",
    "cv2.imwrite(\"test_1379_defocus_blur.png\", test_x_defocus_blur[1379])"
   ]
  },
  {
   "cell_type": "code",
   "execution_count": 30,
   "metadata": {},
   "outputs": [
    {
     "name": "stdout",
     "output_type": "stream",
     "text": [
      "test_x_defocus_blur shape:  (12630, 3, 50, 50)\n",
      "test_x_rotate_defocus_blur shape:  (50520, 3, 50, 50)\n"
     ]
    }
   ],
   "source": [
    "test_x_defocus_blur = np.swapaxes(test_x_defocus_blur,3,1)\n",
    "test_x_rotate_defocus_blur = np.swapaxes(test_x_rotate_defocus_blur,3,1)\n",
    "test_x_defocus_blur = np.swapaxes(test_x_defocus_blur,2,3)\n",
    "test_x_rotate_defocus_blur = np.swapaxes(test_x_rotate_defocus_blur,2,3)\n",
    "print(\"test_x_defocus_blur shape: \", test_x_defocus_blur.shape)\n",
    "print(\"test_x_rotate_defocus_blur shape: \", test_x_rotate_defocus_blur.shape)"
   ]
  },
  {
   "cell_type": "code",
   "execution_count": 31,
   "metadata": {},
   "outputs": [
    {
     "name": "stdout",
     "output_type": "stream",
     "text": [
      "Train mean: [87.565186, 79.653656, 82.58276]\n",
      "Train std: [70.78099, 67.66874, 69.59343]\n"
     ]
    }
   ],
   "source": [
    "# Compute mean and std.\n",
    "train_mean = []\n",
    "train_std = []\n",
    "for i in range(3):\n",
    "    s = np.std(train_x[:,i,:,:])\n",
    "    m = np.mean(train_x[:,i,:,:])\n",
    "    \n",
    "    test_x_defocus_blur[:,i,:,:] = (test_x_defocus_blur[:,i,:,:] - m) / s\n",
    "    test_x_rotate_defocus_blur[:,i,:,:] = (test_x_rotate_defocus_blur[:,i,:,:] - m) / s\n",
    "    \n",
    "    train_std.append(np.std(train_x[:,i,:,:]))\n",
    "    train_mean.append(np.mean(train_x[:,i,:,:]))\n",
    "print(f\"Train mean: {train_mean}\")\n",
    "print(f\"Train std: {train_std}\")"
   ]
  },
  {
   "cell_type": "code",
   "execution_count": 32,
   "metadata": {},
   "outputs": [
    {
     "name": "stdout",
     "output_type": "stream",
     "text": [
      "torch.Size([12630, 3, 50, 50])\n",
      "torch.Size([50520, 3, 50, 50])\n"
     ]
    }
   ],
   "source": [
    "test_x_defocus_blur = torch.from_numpy(test_x_defocus_blur)\n",
    "test_x_rotate_defocus_blur = torch.from_numpy(test_x_rotate_defocus_blur)\n",
    "print(test_x_defocus_blur.size())\n",
    "print(test_x_rotate_defocus_blur.size())"
   ]
  },
  {
   "cell_type": "code",
   "execution_count": 33,
   "metadata": {},
   "outputs": [],
   "source": [
    "\n",
    "torch.save(test_x_defocus_blur, 'test_x_defocus_blur.pt')\n",
    "torch.save(test_y, 'test_y_defocus_blur.pt')\n",
    "torch.save(test_x_rotate_defocus_blur, 'test_x_rotate_defocus_blur.pt')\n",
    "torch.save(test_y_rotate, 'test_y_rotate_defocus_blur.pt')\n",
    "\n",
    "del test_x_defocus_blur\n",
    "del test_x_rotate_defocus_blur\n"
   ]
  },
  {
   "cell_type": "markdown",
   "metadata": {},
   "source": [
    "# prepare zoom blur"
   ]
  },
  {
   "cell_type": "code",
   "execution_count": 34,
   "metadata": {},
   "outputs": [],
   "source": [
    "from scipy.ndimage import zoom as scizoom\n",
    "def clipped_zoom(img, zoom_factor):\n",
    "    h = img.shape[0]\n",
    "    # ceil crop height(= crop width)\n",
    "    ch = int(np.ceil(h / zoom_factor))\n",
    "\n",
    "    top = (h - ch) // 2\n",
    "    img = scizoom(img[top:top + ch, top:top + ch], (zoom_factor, zoom_factor, 1), order=1)\n",
    "    # trim off any extra pixels\n",
    "    trim_top = (img.shape[0] - h) // 2\n",
    "\n",
    "    return img[trim_top:trim_top + h, trim_top:trim_top + h]\n",
    "\n",
    "def zoom_blur(x, severity=5):\n",
    "    c = [np.arange(1, 1.06, 0.01), np.arange(1, 1.11, 0.01), np.arange(1, 1.16, 0.01),\n",
    "         np.arange(1, 1.21, 0.01), np.arange(1, 1.26, 0.01)][severity - 1]\n",
    "\n",
    "    x = (np.array(x) / 255.).astype(np.float32)\n",
    "    out = np.zeros_like(x)\n",
    "    for zoom_factor in c:\n",
    "        out += clipped_zoom(x, zoom_factor)\n",
    "\n",
    "    x = (x + out) / (len(c) + 1)\n",
    "    return np.clip(x, 0, 1) * 255"
   ]
  },
  {
   "cell_type": "code",
   "execution_count": 35,
   "metadata": {},
   "outputs": [
    {
     "name": "stdout",
     "output_type": "stream",
     "text": [
      "test_x_zoom_blur shape:  (12630, 50, 50, 3)\n",
      "test_x_rotate_zoom_blur shape:  (50520, 50, 50, 3)\n"
     ]
    }
   ],
   "source": [
    "test_x_zoom_blur = np.zeros(test_x.shape)\n",
    "test_x_rotate_zoom_blur = np.zeros(test_x_rotate.shape)\n",
    "print(\"test_x_zoom_blur shape: \", test_x_zoom_blur.shape)\n",
    "print(\"test_x_rotate_zoom_blur shape: \", test_x_rotate_zoom_blur.shape)"
   ]
  },
  {
   "cell_type": "code",
   "execution_count": 36,
   "metadata": {},
   "outputs": [],
   "source": [
    "for i in range(test_x.shape[0]):\n",
    "    test_x_zoom_blur[i] = zoom_blur(test_x[i])\n",
    "    \n",
    "for i in range(test_x_rotate.shape[0]):\n",
    "    test_x_rotate_zoom_blur[i] = zoom_blur(test_x_rotate[i])"
   ]
  },
  {
   "cell_type": "code",
   "execution_count": 37,
   "metadata": {},
   "outputs": [
    {
     "data": {
      "text/plain": [
       "True"
      ]
     },
     "execution_count": 37,
     "metadata": {},
     "output_type": "execute_result"
    }
   ],
   "source": [
    "cv2.imwrite(\"test_1370_zoom_blur.png\", test_x_zoom_blur[1370])\n",
    "cv2.imwrite(\"test_1371_zoom_blur.png\", test_x_zoom_blur[1371])\n",
    "cv2.imwrite(\"test_1372_zoom_blur.png\", test_x_zoom_blur[1372])\n",
    "cv2.imwrite(\"test_1373_zoom_blur.png\", test_x_zoom_blur[1373])\n",
    "cv2.imwrite(\"test_1374_zoom_blur.png\", test_x_zoom_blur[1374])\n",
    "cv2.imwrite(\"test_1375_zoom_blur.png\", test_x_zoom_blur[1375])\n",
    "cv2.imwrite(\"test_1376_zoom_blur.png\", test_x_zoom_blur[1376])\n",
    "cv2.imwrite(\"test_1377_zoom_blur.png\", test_x_zoom_blur[1377])\n",
    "cv2.imwrite(\"test_1378_zoom_blur.png\", test_x_zoom_blur[1378])\n",
    "cv2.imwrite(\"test_1379_zoom_blur.png\", test_x_zoom_blur[1379])"
   ]
  },
  {
   "cell_type": "code",
   "execution_count": 38,
   "metadata": {},
   "outputs": [
    {
     "name": "stdout",
     "output_type": "stream",
     "text": [
      "test_x_zoom_blur shape:  (12630, 3, 50, 50)\n",
      "test_x_rotate_zoom_blur shape:  (50520, 3, 50, 50)\n"
     ]
    }
   ],
   "source": [
    "test_x_zoom_blur = np.swapaxes(test_x_zoom_blur,3,1)\n",
    "test_x_rotate_zoom_blur = np.swapaxes(test_x_rotate_zoom_blur,3,1)\n",
    "test_x_zoom_blur = np.swapaxes(test_x_zoom_blur,2,3)\n",
    "test_x_rotate_zoom_blur = np.swapaxes(test_x_rotate_zoom_blur,2,3)\n",
    "print(\"test_x_zoom_blur shape: \", test_x_zoom_blur.shape)\n",
    "print(\"test_x_rotate_zoom_blur shape: \", test_x_rotate_zoom_blur.shape)"
   ]
  },
  {
   "cell_type": "code",
   "execution_count": 39,
   "metadata": {},
   "outputs": [
    {
     "name": "stdout",
     "output_type": "stream",
     "text": [
      "Train mean: [87.565186, 79.653656, 82.58276]\n",
      "Train std: [70.78099, 67.66874, 69.59343]\n"
     ]
    }
   ],
   "source": [
    "# Compute mean and std.\n",
    "train_mean = []\n",
    "train_std = []\n",
    "for i in range(3):\n",
    "    s = np.std(train_x[:,i,:,:])\n",
    "    m = np.mean(train_x[:,i,:,:])\n",
    "    \n",
    "    test_x_zoom_blur[:,i,:,:] = (test_x_zoom_blur[:,i,:,:] - m) / s\n",
    "    test_x_rotate_zoom_blur[:,i,:,:] = (test_x_rotate_zoom_blur[:,i,:,:] - m) / s\n",
    "    \n",
    "    train_std.append(np.std(train_x[:,i,:,:]))\n",
    "    train_mean.append(np.mean(train_x[:,i,:,:]))\n",
    "print(f\"Train mean: {train_mean}\")\n",
    "print(f\"Train std: {train_std}\")"
   ]
  },
  {
   "cell_type": "code",
   "execution_count": 40,
   "metadata": {},
   "outputs": [
    {
     "name": "stdout",
     "output_type": "stream",
     "text": [
      "torch.Size([12630, 3, 50, 50])\n",
      "torch.Size([50520, 3, 50, 50])\n"
     ]
    }
   ],
   "source": [
    "test_x_zoom_blur = torch.from_numpy(test_x_zoom_blur)\n",
    "test_x_rotate_zoom_blur = torch.from_numpy(test_x_rotate_zoom_blur)\n",
    "print(test_x_zoom_blur.size())\n",
    "print(test_x_rotate_zoom_blur.size())"
   ]
  },
  {
   "cell_type": "code",
   "execution_count": 41,
   "metadata": {},
   "outputs": [],
   "source": [
    "\n",
    "torch.save(test_x_zoom_blur, 'test_x_zoom_blur.pt')\n",
    "torch.save(test_y, 'test_y_zoom_blur.pt')\n",
    "torch.save(test_x_rotate_zoom_blur, 'test_x_rotate_zoom_blur.pt')\n",
    "torch.save(test_y_rotate, 'test_y_rotate_zoom_blur.pt')\n",
    "\n",
    "del test_x_zoom_blur\n",
    "del test_x_rotate_zoom_blur\n"
   ]
  },
  {
   "cell_type": "markdown",
   "metadata": {},
   "source": [
    "# prepare horizontal motion blur"
   ]
  },
  {
   "cell_type": "code",
   "execution_count": 42,
   "metadata": {},
   "outputs": [],
   "source": [
    "# applying the kernel to the input image\n",
    "def hmotion_blur(img):\n",
    "    # Specify the kernel size. \n",
    "    # The greater the size, the more the motion. \n",
    "    kernel_size = 10\n",
    "\n",
    "    # Create the vertical kernel. \n",
    "    kernel_v = np.zeros((kernel_size, kernel_size)) \n",
    "\n",
    "    # Create a copy of the same for creating the horizontal kernel. \n",
    "    kernel_h = np.copy(kernel_v) \n",
    "\n",
    "    # Fill the middle row with ones. \n",
    "    #kernel_v[:, int((kernel_size - 1)/2)] = np.ones(kernel_size) \n",
    "    kernel_h[int((kernel_size - 1)/2), :] = np.ones(kernel_size) \n",
    "\n",
    "    # Normalize. \n",
    "    #kernel_v /= kernel_size \n",
    "    kernel_h /= kernel_size \n",
    "\n",
    "    # Apply the vertical kernel. \n",
    "    #vertical_mb = cv2.filter2D(img, -1, kernel_v) \n",
    "\n",
    "    # Apply the horizontal kernel. \n",
    "    horizonal_mb = cv2.filter2D(img, -1, kernel_h) \n",
    "    return horizonal_mb"
   ]
  },
  {
   "cell_type": "code",
   "execution_count": 43,
   "metadata": {},
   "outputs": [
    {
     "name": "stdout",
     "output_type": "stream",
     "text": [
      "test_x_motion_blur shape:  (12630, 50, 50, 3)\n",
      "test_x_rotate_motion_blur shape:  (50520, 50, 50, 3)\n"
     ]
    }
   ],
   "source": [
    "test_x_hmotion_blur = np.zeros(test_x.shape)\n",
    "test_x_rotate_hmotion_blur = np.zeros(test_x_rotate.shape)\n",
    "print(\"test_x_hmotion_blur shape: \", test_x_hmotion_blur.shape)\n",
    "print(\"test_x_rotate_hmotion_blur shape: \", test_x_rotate_hmotion_blur.shape)"
   ]
  },
  {
   "cell_type": "code",
   "execution_count": 44,
   "metadata": {},
   "outputs": [],
   "source": [
    "for i in range(test_x.shape[0]):\n",
    "    test_x_hmotion_blur[i] = hmotion_blur(test_x[i])\n",
    "    \n",
    "for i in range(test_x_rotate.shape[0]):\n",
    "    test_x_rotate_hmotion_blur[i] = hmotion_blur(test_x_rotate[i])"
   ]
  },
  {
   "cell_type": "code",
   "execution_count": 45,
   "metadata": {},
   "outputs": [
    {
     "data": {
      "text/plain": [
       "True"
      ]
     },
     "execution_count": 45,
     "metadata": {},
     "output_type": "execute_result"
    }
   ],
   "source": [
    "cv2.imwrite(\"test_1370_hmotion_blur.png\", test_x_hmotion_blur[1370])\n",
    "cv2.imwrite(\"test_1371_hmotion_blur.png\", test_x_hmotion_blur[1371])\n",
    "cv2.imwrite(\"test_1372_hmotion_blur.png\", test_x_hmotion_blur[1372])\n",
    "cv2.imwrite(\"test_1373_hmotion_blur.png\", test_x_hmotion_blur[1373])\n",
    "cv2.imwrite(\"test_1374_hmotion_blur.png\", test_x_hmotion_blur[1374])\n",
    "cv2.imwrite(\"test_1375_hmotion_blur.png\", test_x_hmotion_blur[1375])\n",
    "cv2.imwrite(\"test_1376_hmotion_blur.png\", test_x_hmotion_blur[1376])\n",
    "cv2.imwrite(\"test_1377_hmotion_blur.png\", test_x_hmotion_blur[1377])\n",
    "cv2.imwrite(\"test_1378_hmotion_blur.png\", test_x_hmotion_blur[1378])\n",
    "cv2.imwrite(\"test_1379_hmotion_blur.png\", test_x_hmotion_blur[1379])"
   ]
  },
  {
   "cell_type": "code",
   "execution_count": 46,
   "metadata": {},
   "outputs": [
    {
     "name": "stdout",
     "output_type": "stream",
     "text": [
      "test_x_motion_blur shape:  (12630, 3, 50, 50)\n",
      "test_x_rotate_motion_blur shape:  (50520, 3, 50, 50)\n"
     ]
    }
   ],
   "source": [
    "test_x_hmotion_blur = np.swapaxes(test_x_hmotion_blur,3,1)\n",
    "test_x_rotate_hmotion_blur = np.swapaxes(test_x_rotate_hmotion_blur,3,1)\n",
    "test_x_hmotion_blur = np.swapaxes(test_x_hmotion_blur,2,3)\n",
    "test_x_rotate_hmotion_blur = np.swapaxes(test_x_rotate_hmotion_blur,2,3)\n",
    "print(\"test_x_hmotion_blur shape: \", test_x_hmotion_blur.shape)\n",
    "print(\"test_x_rotate_hmotion_blur shape: \", test_x_rotate_hmotion_blur.shape)"
   ]
  },
  {
   "cell_type": "code",
   "execution_count": 47,
   "metadata": {},
   "outputs": [
    {
     "name": "stdout",
     "output_type": "stream",
     "text": [
      "Train mean: [87.565186, 79.653656, 82.58276]\n",
      "Train std: [70.78099, 67.66874, 69.59343]\n"
     ]
    }
   ],
   "source": [
    "# Compute mean and std.\n",
    "train_mean = []\n",
    "train_std = []\n",
    "for i in range(3):\n",
    "    s = np.std(train_x[:,i,:,:])\n",
    "    m = np.mean(train_x[:,i,:,:])\n",
    "    \n",
    "    test_x_hmotion_blur[:,i,:,:] = (test_x_hmotion_blur[:,i,:,:] - m) / s\n",
    "    test_x_rotate_hmotion_blur[:,i,:,:] = (test_x_rotate_hmotion_blur[:,i,:,:] - m) / s\n",
    "    \n",
    "    train_std.append(np.std(train_x[:,i,:,:]))\n",
    "    train_mean.append(np.mean(train_x[:,i,:,:]))\n",
    "print(f\"Train mean: {train_mean}\")\n",
    "print(f\"Train std: {train_std}\")"
   ]
  },
  {
   "cell_type": "code",
   "execution_count": 48,
   "metadata": {},
   "outputs": [
    {
     "name": "stdout",
     "output_type": "stream",
     "text": [
      "torch.Size([12630, 3, 50, 50])\n",
      "torch.Size([50520, 3, 50, 50])\n"
     ]
    }
   ],
   "source": [
    "test_x_hmotion_blur = torch.from_numpy(test_x_hmotion_blur)\n",
    "test_x_rotate_hmotion_blur = torch.from_numpy(test_x_rotate_hmotion_blur)\n",
    "print(test_x_hmotion_blur.size())\n",
    "print(test_x_rotate_hmotion_blur.size())"
   ]
  },
  {
   "cell_type": "code",
   "execution_count": 49,
   "metadata": {},
   "outputs": [],
   "source": [
    "\n",
    "torch.save(test_x_hmotion_blur, 'test_x_hmotion_blur.pt')\n",
    "torch.save(test_y, 'test_y_hmotion_blur.pt')\n",
    "torch.save(test_x_rotate_hmotion_blur, 'test_x_rotate_hmotion_blur.pt')\n",
    "torch.save(test_y_rotate, 'test_y_rotate_hmotion_blur.pt')\n",
    "\n",
    "del test_x_motion_blur\n",
    "del test_x_rotate_motion_blur\n"
   ]
  },
  {
   "cell_type": "markdown",
   "metadata": {},
   "source": [
    "# prepare vertical motion blur"
   ]
  },
  {
   "cell_type": "code",
   "execution_count": null,
   "metadata": {},
   "outputs": [],
   "source": [
    "# applying the kernel to the input image\n",
    "def vmotion_blur(img):\n",
    "    # Specify the kernel size. \n",
    "    # The greater the size, the more the motion. \n",
    "    kernel_size = 10\n",
    "\n",
    "    # Create the vertical kernel. \n",
    "    kernel_v = np.zeros((kernel_size, kernel_size)) \n",
    "\n",
    "    # Create a copy of the same for creating the horizontal kernel. \n",
    "    kernel_h = np.copy(kernel_v) \n",
    "\n",
    "    # Fill the middle row with ones. \n",
    "    kernel_v[:, int((kernel_size - 1)/2)] = np.ones(kernel_size) \n",
    "    kernel_h[int((kernel_size - 1)/2), :] = np.ones(kernel_size) \n",
    "\n",
    "    # Normalize. \n",
    "    kernel_v /= kernel_size \n",
    "    kernel_h /= kernel_size \n",
    "\n",
    "    # Apply the vertical kernel. \n",
    "    vertical_mb = cv2.filter2D(img, -1, kernel_v) \n",
    "\n",
    "    # Apply the horizontal kernel. \n",
    "    #horizonal_mb = cv2.filter2D(img, -1, kernel_h) \n",
    "    return vertical_mb"
   ]
  },
  {
   "cell_type": "code",
   "execution_count": null,
   "metadata": {},
   "outputs": [],
   "source": [
    "test_x_vmotion_blur = np.zeros(test_x.shape)\n",
    "test_x_rotate_vmotion_blur = np.zeros(test_x_rotate.shape)\n",
    "print(\"test_x_vmotion_blur shape: \", test_x_vmotion_blur.shape)\n",
    "print(\"test_x_rotate_vmotion_blur shape: \", test_x_rotate_vmotion_blur.shape)"
   ]
  },
  {
   "cell_type": "code",
   "execution_count": null,
   "metadata": {},
   "outputs": [],
   "source": [
    "for i in range(test_x.shape[0]):\n",
    "    test_x_vmotion_blur[i] = vmotion_blur(test_x[i])\n",
    "    \n",
    "for i in range(test_x_rotate.shape[0]):\n",
    "    test_x_rotate_vmotion_blur[i] = vmotion_blur(test_x_rotate[i])"
   ]
  },
  {
   "cell_type": "code",
   "execution_count": null,
   "metadata": {},
   "outputs": [],
   "source": [
    "cv2.imwrite(\"test_1370_vmotion_blur.png\", test_x_vmotion_blur[1370])\n",
    "cv2.imwrite(\"test_1371_vmotion_blur.png\", test_x_vmotion_blur[1371])\n",
    "cv2.imwrite(\"test_1372_vmotion_blur.png\", test_x_vmotion_blur[1372])\n",
    "cv2.imwrite(\"test_1373_vmotion_blur.png\", test_x_vmotion_blur[1373])\n",
    "cv2.imwrite(\"test_1374_vmotion_blur.png\", test_x_vmotion_blur[1374])\n",
    "cv2.imwrite(\"test_1375_vmotion_blur.png\", test_x_vmotion_blur[1375])\n",
    "cv2.imwrite(\"test_1376_vmotion_blur.png\", test_x_vmotion_blur[1376])\n",
    "cv2.imwrite(\"test_1377_vmotion_blur.png\", test_x_vmotion_blur[1377])\n",
    "cv2.imwrite(\"test_1378_vmotion_blur.png\", test_x_vmotion_blur[1378])\n",
    "cv2.imwrite(\"test_1379_vmotion_blur.png\", test_x_vmotion_blur[1379])"
   ]
  },
  {
   "cell_type": "code",
   "execution_count": null,
   "metadata": {},
   "outputs": [],
   "source": [
    "test_x_vmotion_blur = np.swapaxes(test_x_vmotion_blur,3,1)\n",
    "test_x_rotate_vmotion_blur = np.swapaxes(test_x_rotate_vmotion_blur,3,1)\n",
    "test_x_vmotion_blur = np.swapaxes(test_x_vmotion_blur,2,3)\n",
    "test_x_rotate_vmotion_blur = np.swapaxes(test_x_rotate_vmotion_blur,2,3)\n",
    "print(\"test_x_vmotion_blur shape: \", test_x_vmotion_blur.shape)\n",
    "print(\"test_x_rotate_vmotion_blur shape: \", test_x_rotate_vmotion_blur.shape)"
   ]
  },
  {
   "cell_type": "code",
   "execution_count": null,
   "metadata": {},
   "outputs": [],
   "source": [
    "# Compute mean and std.\n",
    "train_mean = []\n",
    "train_std = []\n",
    "for i in range(3):\n",
    "    s = np.std(train_x[:,i,:,:])\n",
    "    m = np.mean(train_x[:,i,:,:])\n",
    "    \n",
    "    test_x_vmotion_blur[:,i,:,:] = (test_x_vmotion_blur[:,i,:,:] - m) / s\n",
    "    test_x_rotate_vmotion_blur[:,i,:,:] = (test_x_rotate_vmotion_blur[:,i,:,:] - m) / s\n",
    "    \n",
    "    train_std.append(np.std(train_x[:,i,:,:]))\n",
    "    train_mean.append(np.mean(train_x[:,i,:,:]))\n",
    "print(f\"Train mean: {train_mean}\")\n",
    "print(f\"Train std: {train_std}\")"
   ]
  },
  {
   "cell_type": "code",
   "execution_count": null,
   "metadata": {},
   "outputs": [],
   "source": [
    "test_x_vmotion_blur = torch.from_numpy(test_x_vmotion_blur)\n",
    "test_x_rotate_vmotion_blur = torch.from_numpy(test_x_rotate_vmotion_blur)\n",
    "print(test_x_vmotion_blur.size())\n",
    "print(test_x_rotate_vmotion_blur.size())"
   ]
  },
  {
   "cell_type": "code",
   "execution_count": null,
   "metadata": {},
   "outputs": [],
   "source": [
    "\n",
    "torch.save(test_x_vmotion_blur, 'test_x_vmotion_blur.pt')\n",
    "torch.save(test_y, 'test_y_vmotion_blur.pt')\n",
    "torch.save(test_x_rotate_vmotion_blur, 'test_x_rotate_vmotion_blur.pt')\n",
    "torch.save(test_y_rotate, 'test_y_rotate_vmotion_blur.pt')\n",
    "\n",
    "del test_x_motion_blur\n",
    "del test_x_rotate_motion_blur\n"
   ]
  },
  {
   "cell_type": "markdown",
   "metadata": {},
   "source": [
    "# prepare Elastic Transform"
   ]
  },
  {
   "cell_type": "code",
   "execution_count": 50,
   "metadata": {},
   "outputs": [],
   "source": [
    "from skimage.filters import gaussian\n",
    "from scipy.ndimage.interpolation import map_coordinates\n",
    "def elastic_transform(image, severity=5):\n",
    "    IMSIZE = 32\n",
    "    c = [(IMSIZE*0, IMSIZE*0, IMSIZE*0.08),\n",
    "         (IMSIZE*0.05, IMSIZE*0.2, IMSIZE*0.07),\n",
    "         (IMSIZE*0.08, IMSIZE*0.06, IMSIZE*0.06),\n",
    "         (IMSIZE*0.1, IMSIZE*0.04, IMSIZE*0.05),\n",
    "         (IMSIZE*0.1, IMSIZE*0.03, IMSIZE*0.03)][severity - 1]\n",
    "\n",
    "    image = np.array(image, dtype=np.float32) / 255.\n",
    "    shape = image.shape\n",
    "    shape_size = shape[:2]\n",
    "\n",
    "    # random affine\n",
    "    center_square = np.float32(shape_size) // 2\n",
    "    square_size = min(shape_size) // 3\n",
    "    pts1 = np.float32([center_square + square_size,\n",
    "                       [center_square[0] + square_size, center_square[1] - square_size],\n",
    "                       center_square - square_size])\n",
    "    pts2 = pts1 + np.random.uniform(-c[2], c[2], size=pts1.shape).astype(np.float32)\n",
    "    M = cv2.getAffineTransform(pts1, pts2)\n",
    "    image = cv2.warpAffine(image, M, shape_size[::-1], borderMode=cv2.BORDER_REFLECT_101)\n",
    "\n",
    "    dx = (gaussian(np.random.uniform(-1, 1, size=shape[:2]),\n",
    "                   c[1], mode='reflect', truncate=3) * c[0]).astype(np.float32)\n",
    "    dy = (gaussian(np.random.uniform(-1, 1, size=shape[:2]),\n",
    "                   c[1], mode='reflect', truncate=3) * c[0]).astype(np.float32)\n",
    "    dx, dy = dx[..., np.newaxis], dy[..., np.newaxis]\n",
    "\n",
    "    x, y, z = np.meshgrid(np.arange(shape[1]), np.arange(shape[0]), np.arange(shape[2]))\n",
    "    indices = np.reshape(y + dy, (-1, 1)), np.reshape(x + dx, (-1, 1)), np.reshape(z, (-1, 1))\n",
    "    return np.clip(map_coordinates(image, indices, order=1, mode='reflect').reshape(shape), 0, 1) * 255"
   ]
  },
  {
   "cell_type": "code",
   "execution_count": 51,
   "metadata": {},
   "outputs": [
    {
     "name": "stdout",
     "output_type": "stream",
     "text": [
      "test_x_elastic_transform shape:  (12630, 50, 50, 3)\n",
      "test_x_rotate_elastic_transform shape:  (50520, 50, 50, 3)\n"
     ]
    }
   ],
   "source": [
    "test_x_elastic_transform = np.zeros(test_x.shape)\n",
    "test_x_rotate_elastic_transform = np.zeros(test_x_rotate.shape)\n",
    "print(\"test_x_elastic_transform shape: \", test_x_elastic_transform.shape)\n",
    "print(\"test_x_rotate_elastic_transform shape: \", test_x_rotate_elastic_transform.shape)"
   ]
  },
  {
   "cell_type": "code",
   "execution_count": 52,
   "metadata": {},
   "outputs": [],
   "source": [
    "for i in range(test_x.shape[0]):\n",
    "    test_x_elastic_transform[i] = elastic_transform(test_x[i])\n",
    "    \n",
    "for i in range(test_x_rotate.shape[0]):\n",
    "    test_x_rotate_elastic_transform[i] = elastic_transform(test_x_rotate[i])"
   ]
  },
  {
   "cell_type": "code",
   "execution_count": 53,
   "metadata": {},
   "outputs": [
    {
     "data": {
      "text/plain": [
       "True"
      ]
     },
     "execution_count": 53,
     "metadata": {},
     "output_type": "execute_result"
    }
   ],
   "source": [
    "cv2.imwrite(\"test_1370_elastic_transform.png\", test_x_elastic_transform[1370])\n",
    "cv2.imwrite(\"test_1371_elastic_transform.png\", test_x_elastic_transform[1371])\n",
    "cv2.imwrite(\"test_1372_elastic_transform.png\", test_x_elastic_transform[1372])\n",
    "cv2.imwrite(\"test_1373_elastic_transform.png\", test_x_elastic_transform[1373])\n",
    "cv2.imwrite(\"test_1374_elastic_transform.png\", test_x_elastic_transform[1374])\n",
    "cv2.imwrite(\"test_1375_elastic_transform.png\", test_x_elastic_transform[1375])\n",
    "cv2.imwrite(\"test_1376_elastic_transform.png\", test_x_elastic_transform[1376])\n",
    "cv2.imwrite(\"test_1377_elastic_transform.png\", test_x_elastic_transform[1377])\n",
    "cv2.imwrite(\"test_1378_elastic_transform.png\", test_x_elastic_transform[1378])\n",
    "cv2.imwrite(\"test_1379_elastic_transform.png\", test_x_elastic_transform[1379])"
   ]
  },
  {
   "cell_type": "code",
   "execution_count": 54,
   "metadata": {},
   "outputs": [
    {
     "name": "stdout",
     "output_type": "stream",
     "text": [
      "test_x_elastic_transform shape:  (12630, 3, 50, 50)\n",
      "test_x_rotate_elastic_transform shape:  (50520, 3, 50, 50)\n"
     ]
    }
   ],
   "source": [
    "test_x_elastic_transform = np.swapaxes(test_x_elastic_transform,3,1)\n",
    "test_x_rotate_elastic_transform = np.swapaxes(test_x_rotate_elastic_transform,3,1)\n",
    "test_x_elastic_transform = np.swapaxes(test_x_elastic_transform,2,3)\n",
    "test_x_rotate_elastic_transform = np.swapaxes(test_x_rotate_elastic_transform,2,3)\n",
    "print(\"test_x_elastic_transform shape: \", test_x_elastic_transform.shape)\n",
    "print(\"test_x_rotate_elastic_transform shape: \", test_x_rotate_elastic_transform.shape)"
   ]
  },
  {
   "cell_type": "code",
   "execution_count": 55,
   "metadata": {},
   "outputs": [
    {
     "name": "stdout",
     "output_type": "stream",
     "text": [
      "Train mean: [87.565186, 79.653656, 82.58276]\n",
      "Train std: [70.78099, 67.66874, 69.59343]\n"
     ]
    }
   ],
   "source": [
    "# Compute mean and std.\n",
    "train_mean = []\n",
    "train_std = []\n",
    "for i in range(3):\n",
    "    s = np.std(train_x[:,i,:,:])\n",
    "    m = np.mean(train_x[:,i,:,:])\n",
    "    \n",
    "    test_x_elastic_transform[:,i,:,:] = (test_x_elastic_transform[:,i,:,:] - m) / s\n",
    "    test_x_rotate_elastic_transform[:,i,:,:] = (test_x_rotate_elastic_transform[:,i,:,:] - m) / s\n",
    "    \n",
    "    train_std.append(np.std(train_x[:,i,:,:]))\n",
    "    train_mean.append(np.mean(train_x[:,i,:,:]))\n",
    "print(f\"Train mean: {train_mean}\")\n",
    "print(f\"Train std: {train_std}\")"
   ]
  },
  {
   "cell_type": "code",
   "execution_count": 56,
   "metadata": {},
   "outputs": [
    {
     "name": "stdout",
     "output_type": "stream",
     "text": [
      "torch.Size([12630, 3, 50, 50])\n",
      "torch.Size([50520, 3, 50, 50])\n"
     ]
    }
   ],
   "source": [
    "test_x_elastic_transform = torch.from_numpy(test_x_elastic_transform)\n",
    "test_x_rotate_elastic_transform = torch.from_numpy(test_x_rotate_elastic_transform)\n",
    "print(test_x_elastic_transform.size())\n",
    "print(test_x_rotate_elastic_transform.size())"
   ]
  },
  {
   "cell_type": "code",
   "execution_count": 57,
   "metadata": {},
   "outputs": [],
   "source": [
    "\n",
    "torch.save(test_x_elastic_transform, 'test_x_elastic_transform.pt')\n",
    "torch.save(test_y, 'test_y_elastic_transform.pt')\n",
    "torch.save(test_x_rotate_elastic_transform, 'test_x_rotate_elastic_transform.pt')\n",
    "torch.save(test_y_rotate, 'test_y_rotate_elastic_transform.pt')\n",
    "\n",
    "del test_x_elastic_transform\n",
    "del test_x_rotate_elastic_transform\n"
   ]
  },
  {
   "cell_type": "markdown",
   "metadata": {},
   "source": [
    "# prepare Contrast"
   ]
  },
  {
   "cell_type": "code",
   "execution_count": 20,
   "metadata": {},
   "outputs": [],
   "source": [
    "def contrast(x, severity=5):\n",
    "    c = [.75, .5, .4, .3, 0.15][severity - 1]\n",
    "\n",
    "    x = np.array(x) / 255.\n",
    "    means = np.mean(x, axis=(0, 1), keepdims=True)\n",
    "    return np.clip((x - means) * c + means, 0, 1) * 255"
   ]
  },
  {
   "cell_type": "code",
   "execution_count": 18,
   "metadata": {},
   "outputs": [
    {
     "name": "stdout",
     "output_type": "stream",
     "text": [
      "test_x_contrast shape:  (12630, 50, 50, 3)\n",
      "test_x_rotate_contrast shape:  (50520, 50, 50, 3)\n"
     ]
    }
   ],
   "source": [
    "test_x_contrast = np.zeros(test_x.shape)\n",
    "test_x_rotate_contrast = np.zeros(test_x_rotate.shape)\n",
    "print(\"test_x_contrast shape: \", test_x_contrast.shape)\n",
    "print(\"test_x_rotate_contrast shape: \", test_x_rotate_contrast.shape)"
   ]
  },
  {
   "cell_type": "code",
   "execution_count": 21,
   "metadata": {},
   "outputs": [],
   "source": [
    "for i in range(test_x.shape[0]):\n",
    "    test_x_contrast[i] = contrast(test_x[i])\n",
    "    \n",
    "for i in range(test_x_rotate.shape[0]):\n",
    "    test_x_rotate_contrast[i] = contrast(test_x_rotate[i])"
   ]
  },
  {
   "cell_type": "code",
   "execution_count": 22,
   "metadata": {},
   "outputs": [
    {
     "data": {
      "text/plain": [
       "True"
      ]
     },
     "execution_count": 22,
     "metadata": {},
     "output_type": "execute_result"
    }
   ],
   "source": [
    "cv2.imwrite(\"test_1370_contrast.png\", test_x_contrast[1370])\n",
    "cv2.imwrite(\"test_1371_contrast.png\", test_x_contrast[1371])\n",
    "cv2.imwrite(\"test_1372_contrast.png\", test_x_contrast[1372])\n",
    "cv2.imwrite(\"test_1373_contrast.png\", test_x_contrast[1373])\n",
    "cv2.imwrite(\"test_1374_contrast.png\", test_x_contrast[1374])\n",
    "cv2.imwrite(\"test_1375_contrast.png\", test_x_contrast[1375])\n",
    "cv2.imwrite(\"test_1376_contrast.png\", test_x_contrast[1376])\n",
    "cv2.imwrite(\"test_1377_contrast.png\", test_x_contrast[1377])\n",
    "cv2.imwrite(\"test_1378_contrast.png\", test_x_contrast[1378])\n",
    "cv2.imwrite(\"test_1379_contrast.png\", test_x_contrast[1379])"
   ]
  },
  {
   "cell_type": "code",
   "execution_count": 23,
   "metadata": {},
   "outputs": [
    {
     "name": "stdout",
     "output_type": "stream",
     "text": [
      "test_x_contrast shape:  (12630, 3, 50, 50)\n",
      "test_x_rotate_contrast shape:  (50520, 3, 50, 50)\n"
     ]
    }
   ],
   "source": [
    "test_x_contrast = np.swapaxes(test_x_contrast,3,1)\n",
    "test_x_rotate_contrast = np.swapaxes(test_x_rotate_contrast,3,1)\n",
    "test_x_contrast = np.swapaxes(test_x_contrast,2,3)\n",
    "test_x_rotate_contrast = np.swapaxes(test_x_rotate_contrast,2,3)\n",
    "print(\"test_x_contrast shape: \", test_x_contrast.shape)\n",
    "print(\"test_x_rotate_contrast shape: \", test_x_rotate_contrast.shape)"
   ]
  },
  {
   "cell_type": "code",
   "execution_count": null,
   "metadata": {},
   "outputs": [],
   "source": [
    "# Compute mean and std.\n",
    "train_mean = []\n",
    "train_std = []\n",
    "for i in range(3):\n",
    "    s = np.std(train_x[:,i,:,:])\n",
    "    m = np.mean(train_x[:,i,:,:])\n",
    "    \n",
    "    test_x_contrast[:,i,:,:] = (test_x_contrast[:,i,:,:] - m) / s\n",
    "    test_x_rotate_contrast[:,i,:,:] = (test_x_rotate_contrast[:,i,:,:] - m) / s\n",
    "    \n",
    "    train_std.append(np.std(train_x[:,i,:,:]))\n",
    "    train_mean.append(np.mean(train_x[:,i,:,:]))\n",
    "print(f\"Train mean: {train_mean}\")\n",
    "print(f\"Train std: {train_std}\")"
   ]
  },
  {
   "cell_type": "code",
   "execution_count": null,
   "metadata": {},
   "outputs": [],
   "source": [
    "test_x_contrast = torch.from_numpy(test_x_contrast)\n",
    "test_x_rotate_contrast = torch.from_numpy(test_x_rotate_contrast)\n",
    "print(test_x_contrast.size())\n",
    "print(test_x_rotate_contrast.size())"
   ]
  },
  {
   "cell_type": "code",
   "execution_count": null,
   "metadata": {},
   "outputs": [],
   "source": [
    "\n",
    "torch.save(test_x_contrast, 'test_x_contrast.pt')\n",
    "torch.save(test_y, 'test_y_contrast.pt')\n",
    "torch.save(test_x_rotate_contrast, 'test_x_rotate_contrast.pt')\n",
    "torch.save(test_y_rotate, 'test_y_contrast.pt')\n",
    "\n",
    "del test_x_contrast\n",
    "del test_x_rotate_contrast\n"
   ]
  },
  {
   "cell_type": "markdown",
   "metadata": {},
   "source": [
    "# prepare Shot noise"
   ]
  },
  {
   "cell_type": "code",
   "execution_count": 24,
   "metadata": {},
   "outputs": [],
   "source": [
    "def shot_noise(x, severity=5):\n",
    "    c = [500, 250, 100, 75, 50][severity - 1]\n",
    "\n",
    "    x = np.array(x) / 255.\n",
    "    return np.clip(np.random.poisson(x * c) / c, 0, 1) * 255"
   ]
  },
  {
   "cell_type": "code",
   "execution_count": 25,
   "metadata": {},
   "outputs": [
    {
     "name": "stdout",
     "output_type": "stream",
     "text": [
      "test_x_shot shape:  (12630, 50, 50, 3)\n",
      "test_x_rotate_shot shape:  (50520, 50, 50, 3)\n"
     ]
    }
   ],
   "source": [
    "test_x_shot = np.zeros(test_x.shape)\n",
    "test_x_rotate_shot = np.zeros(test_x_rotate.shape)\n",
    "print(\"test_x_shot shape: \", test_x_shot.shape)\n",
    "print(\"test_x_rotate_shot shape: \", test_x_rotate_shot.shape)"
   ]
  },
  {
   "cell_type": "code",
   "execution_count": 26,
   "metadata": {},
   "outputs": [],
   "source": [
    "for i in range(test_x.shape[0]):\n",
    "    test_x_shot[i] = shot_noise(test_x[i])\n",
    "    \n",
    "for i in range(test_x_rotate.shape[0]):\n",
    "    test_x_rotate_shot[i] = shot_noise(test_x_rotate[i])"
   ]
  },
  {
   "cell_type": "code",
   "execution_count": 27,
   "metadata": {},
   "outputs": [
    {
     "data": {
      "text/plain": [
       "True"
      ]
     },
     "execution_count": 27,
     "metadata": {},
     "output_type": "execute_result"
    }
   ],
   "source": [
    "cv2.imwrite(\"test_1370_shot.png\", test_x_shot[1370])\n",
    "cv2.imwrite(\"test_1371_shot.png\", test_x_shot[1371])\n",
    "cv2.imwrite(\"test_1372_shot.png\", test_x_shot[1372])\n",
    "cv2.imwrite(\"test_1373_shot.png\", test_x_shot[1373])\n",
    "cv2.imwrite(\"test_1374_shot.png\", test_x_shot[1374])\n",
    "cv2.imwrite(\"test_1375_shot.png\", test_x_shot[1375])\n",
    "cv2.imwrite(\"test_1376_shot.png\", test_x_shot[1376])\n",
    "cv2.imwrite(\"test_1377_shot.png\", test_x_shot[1377])\n",
    "cv2.imwrite(\"test_1378_shot.png\", test_x_shot[1378])\n",
    "cv2.imwrite(\"test_1379_shot.png\", test_x_shot[1379])"
   ]
  },
  {
   "cell_type": "code",
   "execution_count": 28,
   "metadata": {},
   "outputs": [
    {
     "name": "stdout",
     "output_type": "stream",
     "text": [
      "test_x_shot shape:  (12630, 3, 50, 50)\n",
      "test_x_rotate_shot shape:  (50520, 3, 50, 50)\n"
     ]
    }
   ],
   "source": [
    "test_x_shot = np.swapaxes(test_x_shot,3,1)\n",
    "test_x_rotate_shot = np.swapaxes(test_x_rotate_shot,3,1)\n",
    "test_x_shot = np.swapaxes(test_x_shot,2,3)\n",
    "test_x_rotate_shot = np.swapaxes(test_x_rotate_shot,2,3)\n",
    "print(\"test_x_shot shape: \", test_x_shot.shape)\n",
    "print(\"test_x_rotate_shot shape: \", test_x_rotate_shot.shape)"
   ]
  },
  {
   "cell_type": "code",
   "execution_count": null,
   "metadata": {},
   "outputs": [],
   "source": [
    "# Compute mean and std.\n",
    "train_mean = []\n",
    "train_std = []\n",
    "for i in range(3):\n",
    "    s = np.std(train_x[:,i,:,:])\n",
    "    m = np.mean(train_x[:,i,:,:])\n",
    "    \n",
    "    test_x_shot[:,i,:,:] = (test_x_shot[:,i,:,:] - m) / s\n",
    "    test_x_rotate_shot[:,i,:,:] = (test_x_rotate_shot[:,i,:,:] - m) / s\n",
    "    \n",
    "    train_std.append(np.std(train_x[:,i,:,:]))\n",
    "    train_mean.append(np.mean(train_x[:,i,:,:]))\n",
    "print(f\"Train mean: {train_mean}\")\n",
    "print(f\"Train std: {train_std}\")"
   ]
  },
  {
   "cell_type": "code",
   "execution_count": null,
   "metadata": {},
   "outputs": [],
   "source": [
    "test_x_shot = torch.from_numpy(test_x_shot)\n",
    "test_x_rotate_shot = torch.from_numpy(test_x_rotate_shot)\n",
    "print(test_x_shot.size())\n",
    "print(test_x_rotate_shot.size())"
   ]
  },
  {
   "cell_type": "code",
   "execution_count": null,
   "metadata": {},
   "outputs": [],
   "source": [
    "\n",
    "torch.save(test_x_shot, 'test_x_shot.pt')\n",
    "torch.save(test_y, 'test_y_shot.pt')\n",
    "torch.save(test_x_rotate_shot, 'test_x_rotate_shot.pt')\n",
    "torch.save(test_y_rotate, 'test_y_shot.pt')\n",
    "\n",
    "del test_x_shot\n",
    "del test_x_rotate_shot\n"
   ]
  },
  {
   "cell_type": "markdown",
   "metadata": {},
   "source": [
    "# prepare impulse noise"
   ]
  },
  {
   "cell_type": "code",
   "execution_count": 33,
   "metadata": {},
   "outputs": [],
   "source": [
    "import skimage as sk\n",
    "def impulse_noise(x, severity=5):\n",
    "    c = [.01, .02, .03, .05, .07][severity - 1]\n",
    "\n",
    "    x = sk.util.random_noise(np.array(x) / 255., mode='s&p', amount=c)\n",
    "    return np.clip(x, 0, 1) * 255"
   ]
  },
  {
   "cell_type": "code",
   "execution_count": 34,
   "metadata": {},
   "outputs": [
    {
     "name": "stdout",
     "output_type": "stream",
     "text": [
      "test_x_impulse shape:  (12630, 50, 50, 3)\n",
      "test_x_rotate_impulse shape:  (50520, 50, 50, 3)\n"
     ]
    }
   ],
   "source": [
    "test_x_impulse = np.zeros(test_x.shape)\n",
    "test_x_rotate_impulse = np.zeros(test_x_rotate.shape)\n",
    "print(\"test_x_impulse shape: \", test_x_impulse.shape)\n",
    "print(\"test_x_rotate_impulse shape: \", test_x_rotate_impulse.shape)"
   ]
  },
  {
   "cell_type": "code",
   "execution_count": 35,
   "metadata": {},
   "outputs": [],
   "source": [
    "for i in range(test_x.shape[0]):\n",
    "    test_x_impulse[i] = impulse_noise(test_x[i])\n",
    "    \n",
    "for i in range(test_x_rotate.shape[0]):\n",
    "    test_x_rotate_impulse[i] = impulse_noise(test_x_rotate[i])"
   ]
  },
  {
   "cell_type": "code",
   "execution_count": 36,
   "metadata": {},
   "outputs": [
    {
     "data": {
      "text/plain": [
       "True"
      ]
     },
     "execution_count": 36,
     "metadata": {},
     "output_type": "execute_result"
    }
   ],
   "source": [
    "cv2.imwrite(\"test_1370_impulse.png\", test_x_impulse[1370])\n",
    "cv2.imwrite(\"test_1371_impulse.png\", test_x_impulse[1371])\n",
    "cv2.imwrite(\"test_1372_impulse.png\", test_x_impulse[1372])\n",
    "cv2.imwrite(\"test_1373_impulse.png\", test_x_impulse[1373])\n",
    "cv2.imwrite(\"test_1374_impulse.png\", test_x_impulse[1374])\n",
    "cv2.imwrite(\"test_1375_impulse.png\", test_x_impulse[1375])\n",
    "cv2.imwrite(\"test_1376_impulse.png\", test_x_impulse[1376])\n",
    "cv2.imwrite(\"test_1377_impulse.png\", test_x_impulse[1377])\n",
    "cv2.imwrite(\"test_1378_impulse.png\", test_x_impulse[1378])\n",
    "cv2.imwrite(\"test_1379_impulse.png\", test_x_impulse[1379])"
   ]
  },
  {
   "cell_type": "code",
   "execution_count": 37,
   "metadata": {},
   "outputs": [
    {
     "name": "stdout",
     "output_type": "stream",
     "text": [
      "test_x_impulse shape:  (12630, 3, 50, 50)\n",
      "test_x_rotate_impulse shape:  (50520, 3, 50, 50)\n"
     ]
    }
   ],
   "source": [
    "test_x_impulse = np.swapaxes(test_x_impulse,3,1)\n",
    "test_x_rotate_impulse = np.swapaxes(test_x_rotate_impulse,3,1)\n",
    "test_x_impulse = np.swapaxes(test_x_impulse,2,3)\n",
    "test_x_rotate_impulse = np.swapaxes(test_x_rotate_impulse,2,3)\n",
    "print(\"test_x_impulse shape: \", test_x_impulse.shape)\n",
    "print(\"test_x_rotate_impulse shape: \", test_x_rotate_impulse.shape)"
   ]
  },
  {
   "cell_type": "code",
   "execution_count": null,
   "metadata": {},
   "outputs": [],
   "source": [
    "# Compute mean and std.\n",
    "train_mean = []\n",
    "train_std = []\n",
    "for i in range(3):\n",
    "    s = np.std(train_x[:,i,:,:])\n",
    "    m = np.mean(train_x[:,i,:,:])\n",
    "    \n",
    "    test_x_impulse[:,i,:,:] = (test_x_impulse[:,i,:,:] - m) / s\n",
    "    test_x_rotate_impulse[:,i,:,:] = (test_x_rotate_impulse[:,i,:,:] - m) / s\n",
    "    \n",
    "    train_std.append(np.std(train_x[:,i,:,:]))\n",
    "    train_mean.append(np.mean(train_x[:,i,:,:]))\n",
    "print(f\"Train mean: {train_mean}\")\n",
    "print(f\"Train std: {train_std}\")"
   ]
  },
  {
   "cell_type": "code",
   "execution_count": null,
   "metadata": {},
   "outputs": [],
   "source": [
    "test_x_impulse = torch.from_numpy(test_x_impulse)\n",
    "test_x_rotate_impulse = torch.from_numpy(test_x_rotate_impulse)\n",
    "print(test_x_impulse.size())\n",
    "print(test_x_rotate_impulse.size())"
   ]
  },
  {
   "cell_type": "code",
   "execution_count": null,
   "metadata": {},
   "outputs": [],
   "source": [
    "\n",
    "torch.save(test_x_impulse, 'test_x_impulse.pt')\n",
    "torch.save(test_y, 'test_y_impulse.pt')\n",
    "torch.save(test_x_rotate_impulse, 'test_x_rotate_impulse.pt')\n",
    "torch.save(test_y_rotate, 'test_y_impulse.pt')\n",
    "\n",
    "del test_x_impulse\n",
    "del test_x_rotate_impulse\n"
   ]
  },
  {
   "cell_type": "code",
   "execution_count": null,
   "metadata": {},
   "outputs": [],
   "source": []
  }
 ],
 "metadata": {
  "kernelspec": {
   "display_name": "Python 3",
   "language": "python",
   "name": "python3"
  },
  "language_info": {
   "codemirror_mode": {
    "name": "ipython",
    "version": 3
   },
   "file_extension": ".py",
   "mimetype": "text/x-python",
   "name": "python",
   "nbconvert_exporter": "python",
   "pygments_lexer": "ipython3",
   "version": "3.8.6"
  }
 },
 "nbformat": 4,
 "nbformat_minor": 4
}
